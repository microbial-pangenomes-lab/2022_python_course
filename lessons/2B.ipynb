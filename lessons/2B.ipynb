{
 "cells": [
  {
   "cell_type": "markdown",
   "metadata": {
    "colab_type": "text",
    "id": "_XD_wsn6xlTl"
   },
   "source": [
    "# Lesson 2: Intro to Pandas - 2\n",
    "\n",
    "---\n",
    "\n",
    "\n",
    "\n"
   ]
  },
  {
   "cell_type": "code",
   "execution_count": 1,
   "metadata": {
    "ExecuteTime": {
     "end_time": "2017-09-18T15:07:47.669879",
     "start_time": "2017-09-18T15:07:47.371958Z"
    },
    "colab": {},
    "colab_type": "code",
    "id": "qoHXBqWxpOvl",
    "init_cell": true,
    "run_control": {
     "frozen": false,
     "read_only": false
    }
   },
   "outputs": [],
   "source": [
    "# Import the packages that will be usefull for this lesson\n",
    "import pandas as pd\n",
    "import numpy as np"
   ]
  },
  {
   "cell_type": "markdown",
   "metadata": {
    "colab_type": "text",
    "id": "YXba5aUWkjZ2"
   },
   "source": [
    "---"
   ]
  },
  {
   "cell_type": "markdown",
   "metadata": {
    "colab_type": "text",
    "id": "2iAru0N_R1A1"
   },
   "source": [
    "# Manipulating Data"
   ]
  },
  {
   "cell_type": "markdown",
   "metadata": {
    "colab_type": "text",
    "id": "gCH26vTjpO1V"
   },
   "source": [
    "## Manipulating Series Objects\n",
    "**Indexing/Slicing/Updating**\n"
   ]
  },
  {
   "cell_type": "code",
   "execution_count": null,
   "metadata": {
    "colab": {
     "base_uri": "https://localhost:8080/",
     "height": 102
    },
    "colab_type": "code",
    "executionInfo": {
     "elapsed": 442,
     "status": "ok",
     "timestamp": 1587738714494,
     "user": {
      "displayName": "Emma Briars",
      "photoUrl": "https://lh3.googleusercontent.com/a-/AOh14Gj14uLObWQe3mbLX6o5aXvFBch63XWb_GUOD_jG=s64",
      "userId": "10583257419353631243"
     },
     "user_tz": 240
    },
    "id": "ZJIH_MMGpO2Z",
    "outputId": "5bff776f-a6f2-432a-ea97-f6314c034723",
    "run_control": {
     "frozen": false,
     "read_only": false
    }
   },
   "outputs": [],
   "source": [
    "# Create a series\n",
    "s = pd.Series({'A':0.21, 'T':0.24, 'C':0.27, 'G':0.25}, name=\"Percent\")\n",
    "s"
   ]
  },
  {
   "cell_type": "code",
   "execution_count": null,
   "metadata": {
    "colab": {
     "base_uri": "https://localhost:8080/",
     "height": 136
    },
    "colab_type": "code",
    "executionInfo": {
     "elapsed": 396,
     "status": "ok",
     "timestamp": 1587738747929,
     "user": {
      "displayName": "Emma Briars",
      "photoUrl": "https://lh3.googleusercontent.com/a-/AOh14Gj14uLObWQe3mbLX6o5aXvFBch63XWb_GUOD_jG=s64",
      "userId": "10583257419353631243"
     },
     "user_tz": 240
    },
    "id": "R8b3piOQpO2u",
    "outputId": "81d39987-40c7-442c-acfe-01acf71e9abc",
    "run_control": {
     "frozen": false,
     "read_only": false
    }
   },
   "outputs": [],
   "source": [
    "# Concatenate two series\n",
    "s2 = pd.Series({'Y':0.01, 'N':0.03})\n",
    "s3 = s.append(s2)\n",
    "s3"
   ]
  },
  {
   "cell_type": "code",
   "execution_count": null,
   "metadata": {
    "colab": {
     "base_uri": "https://localhost:8080/",
     "height": 68
    },
    "colab_type": "code",
    "executionInfo": {
     "elapsed": 511,
     "status": "ok",
     "timestamp": 1587738764130,
     "user": {
      "displayName": "Emma Briars",
      "photoUrl": "https://lh3.googleusercontent.com/a-/AOh14Gj14uLObWQe3mbLX6o5aXvFBch63XWb_GUOD_jG=s64",
      "userId": "10583257419353631243"
     },
     "user_tz": 240
    },
    "id": "7cvyAYYMpO2w",
    "outputId": "6f76676c-85e2-409a-cee8-37c58c4f42b3",
    "run_control": {
     "frozen": false,
     "read_only": false
    }
   },
   "outputs": [],
   "source": [
    "# Slicing\n",
    "s[2:4]"
   ]
  },
  {
   "cell_type": "code",
   "execution_count": null,
   "metadata": {
    "colab": {
     "base_uri": "https://localhost:8080/",
     "height": 34
    },
    "colab_type": "code",
    "executionInfo": {
     "elapsed": 426,
     "status": "ok",
     "timestamp": 1587738773941,
     "user": {
      "displayName": "Emma Briars",
      "photoUrl": "https://lh3.googleusercontent.com/a-/AOh14Gj14uLObWQe3mbLX6o5aXvFBch63XWb_GUOD_jG=s64",
      "userId": "10583257419353631243"
     },
     "user_tz": 240
    },
    "id": "viNupP-wpO2y",
    "outputId": "b73f7b79-6fa0-4c17-88b3-ca51429cf39a",
    "run_control": {
     "frozen": false,
     "read_only": false
    }
   },
   "outputs": [],
   "source": [
    "# Extraction\n",
    "s[2]"
   ]
  },
  {
   "cell_type": "code",
   "execution_count": null,
   "metadata": {
    "colab": {
     "base_uri": "https://localhost:8080/",
     "height": 85
    },
    "colab_type": "code",
    "executionInfo": {
     "elapsed": 1140,
     "status": "ok",
     "timestamp": 1587738786319,
     "user": {
      "displayName": "Emma Briars",
      "photoUrl": "https://lh3.googleusercontent.com/a-/AOh14Gj14uLObWQe3mbLX6o5aXvFBch63XWb_GUOD_jG=s64",
      "userId": "10583257419353631243"
     },
     "user_tz": 240
    },
    "id": "1eHM9iyopO3A",
    "outputId": "820721f0-dd3e-45b6-a70d-5d2c148fe913",
    "run_control": {
     "frozen": false,
     "read_only": false
    }
   },
   "outputs": [],
   "source": [
    "# the \"for\" loop works as for a list \n",
    "for i in s:\n",
    "    print (i)"
   ]
  },
  {
   "cell_type": "code",
   "execution_count": null,
   "metadata": {
    "colab": {
     "base_uri": "https://localhost:8080/",
     "height": 102
    },
    "colab_type": "code",
    "executionInfo": {
     "elapsed": 420,
     "status": "ok",
     "timestamp": 1587738799777,
     "user": {
      "displayName": "Emma Briars",
      "photoUrl": "https://lh3.googleusercontent.com/a-/AOh14Gj14uLObWQe3mbLX6o5aXvFBch63XWb_GUOD_jG=s64",
      "userId": "10583257419353631243"
     },
     "user_tz": 240
    },
    "id": "8WMhMNzxpO3E",
    "outputId": "f51aa2ef-e397-4ea8-f8cc-983d84603bef",
    "run_control": {
     "frozen": false,
     "read_only": false
    }
   },
   "outputs": [],
   "source": [
    "# Update value\n",
    "s[\"A\"] = 22\n",
    "s"
   ]
  },
  {
   "cell_type": "code",
   "execution_count": null,
   "metadata": {
    "colab": {
     "base_uri": "https://localhost:8080/",
     "height": 34
    },
    "colab_type": "code",
    "executionInfo": {
     "elapsed": 600,
     "status": "ok",
     "timestamp": 1587738827674,
     "user": {
      "displayName": "Emma Briars",
      "photoUrl": "https://lh3.googleusercontent.com/a-/AOh14Gj14uLObWQe3mbLX6o5aXvFBch63XWb_GUOD_jG=s64",
      "userId": "10583257419353631243"
     },
     "user_tz": 240
    },
    "id": "k--QWaPkiKnK",
    "outputId": "96e9f9bc-2584-4532-fbfc-4302eeaeaf51"
   },
   "outputs": [],
   "source": [
    "# Named indexing\n",
    "s[\"A\"]"
   ]
  },
  {
   "cell_type": "code",
   "execution_count": null,
   "metadata": {
    "colab": {
     "base_uri": "https://localhost:8080/",
     "height": 34
    },
    "colab_type": "code",
    "executionInfo": {
     "elapsed": 511,
     "status": "ok",
     "timestamp": 1587738843938,
     "user": {
      "displayName": "Emma Briars",
      "photoUrl": "https://lh3.googleusercontent.com/a-/AOh14Gj14uLObWQe3mbLX6o5aXvFBch63XWb_GUOD_jG=s64",
      "userId": "10583257419353631243"
     },
     "user_tz": 240
    },
    "id": "19i7V6BqiM4W",
    "outputId": "34bf341d-fac3-42d2-a28f-388f7f5a158f"
   },
   "outputs": [],
   "source": [
    "# Test for existence\n",
    "print (\"A\" in s)\n",
    "print (\"V\" in s)"
   ]
  },
  {
   "cell_type": "markdown",
   "metadata": {
    "colab_type": "text",
    "id": "xlPpjw6WpO3G",
    "run_control": {
     "frozen": false,
     "read_only": false
    }
   },
   "source": [
    "**Mathematic operations (thanks to `numpy`)**"
   ]
  },
  {
   "cell_type": "code",
   "execution_count": null,
   "metadata": {
    "colab": {
     "base_uri": "https://localhost:8080/",
     "height": 34
    },
    "colab_type": "code",
    "executionInfo": {
     "elapsed": 364,
     "status": "ok",
     "timestamp": 1587738880439,
     "user": {
      "displayName": "Emma Briars",
      "photoUrl": "https://lh3.googleusercontent.com/a-/AOh14Gj14uLObWQe3mbLX6o5aXvFBch63XWb_GUOD_jG=s64",
      "userId": "10583257419353631243"
     },
     "user_tz": 240
    },
    "id": "SKPNGNG7pO3G",
    "outputId": "7f953eba-e8ad-40b6-9e24-daa08fb2d54f",
    "run_control": {
     "frozen": false,
     "read_only": false
    }
   },
   "outputs": [],
   "source": [
    "s1 = pd.Series({'A':21, 'T':24, 'C':27, 'G':25, 'N':3}, name=\"Percent\")\n",
    "\n",
    "print(s1.max())\n",
    "print(s1.mean())\n",
    "print(s1.all()>20)\n",
    "print(s1.sem()) # standard error of the mean"
   ]
  },
  {
   "cell_type": "code",
   "execution_count": null,
   "metadata": {
    "colab": {
     "base_uri": "https://localhost:8080/",
     "height": 119
    },
    "colab_type": "code",
    "executionInfo": {
     "elapsed": 759,
     "status": "ok",
     "timestamp": 1587738906516,
     "user": {
      "displayName": "Emma Briars",
      "photoUrl": "https://lh3.googleusercontent.com/a-/AOh14Gj14uLObWQe3mbLX6o5aXvFBch63XWb_GUOD_jG=s64",
      "userId": "10583257419353631243"
     },
     "user_tz": 240
    },
    "id": "3gInp39MpO3I",
    "outputId": "531c9f8b-bfe8-4901-e44a-c779e6c09277",
    "run_control": {
     "frozen": false,
     "read_only": false
    }
   },
   "outputs": [],
   "source": [
    "# Addition of 2 series will return a results for all values in the 2 series\n",
    "s2 = pd.Series({'A':0.2, 'T':0.7, 'C':0.4, 'G':1.5, 'N':-3}, name=\"Percent\")\n",
    "\n",
    "s1 + s2"
   ]
  },
  {
   "cell_type": "markdown",
   "metadata": {
    "colab_type": "text",
    "id": "MePhlipTpO3K",
    "run_control": {
     "frozen": false,
     "read_only": false
    }
   },
   "source": [
    "## Manipulating DataFrame Objects\n"
   ]
  },
  {
   "cell_type": "markdown",
   "metadata": {
    "colab_type": "text",
    "id": "MBG0FKUyRd6r"
   },
   "source": [
    "**Further Reading**\n",
    "*   pandas Tutorial: https://pandas.pydata.org/pandas-docs/stable/user_guide/reshaping.html\n",
    "*   Geeks for Geeks Tutorial: https://www.geeksforgeeks.org/reshape-a-pandas-dataframe-using-stackunstack-and-melt-method/\n",
    "*   [Hadley Wickham's](https://en.wikipedia.org/wiki/Hadley_Wickham) philosophy on tidy data: https://vita.had.co.nz/papers/tidy-data.pdf\n"
   ]
  },
  {
   "cell_type": "markdown",
   "metadata": {
    "colab_type": "text",
    "id": "KvjjgiS1pO5_"
   },
   "source": [
    "### Renaming and transforming a DataFrame"
   ]
  },
  {
   "cell_type": "code",
   "execution_count": 2,
   "metadata": {
    "ExecuteTime": {
     "end_time": "2017-09-18T11:16:12.262729",
     "start_time": "2017-09-18T11:16:12.256058Z"
    },
    "colab": {
     "base_uri": "https://localhost:8080/",
     "height": 306
    },
    "colab_type": "code",
    "executionInfo": {
     "elapsed": 420,
     "status": "ok",
     "timestamp": 1587739011963,
     "user": {
      "displayName": "Emma Briars",
      "photoUrl": "https://lh3.googleusercontent.com/a-/AOh14Gj14uLObWQe3mbLX6o5aXvFBch63XWb_GUOD_jG=s64",
      "userId": "10583257419353631243"
     },
     "user_tz": 240
    },
    "id": "DBbUBApipO6A",
    "outputId": "e94c7a5f-a5dc-41a8-c038-8b9d7e9ec7e2",
    "run_control": {
     "frozen": false,
     "read_only": false
    }
   },
   "outputs": [
    {
     "data": {
      "text/html": [
       "<div>\n",
       "<style scoped>\n",
       "    .dataframe tbody tr th:only-of-type {\n",
       "        vertical-align: middle;\n",
       "    }\n",
       "\n",
       "    .dataframe tbody tr th {\n",
       "        vertical-align: top;\n",
       "    }\n",
       "\n",
       "    .dataframe thead th {\n",
       "        text-align: right;\n",
       "    }\n",
       "</style>\n",
       "<table border=\"1\" class=\"dataframe\">\n",
       "  <thead>\n",
       "    <tr style=\"text-align: right;\">\n",
       "      <th></th>\n",
       "      <th>Replicon Name</th>\n",
       "      <th>Replicon Accession</th>\n",
       "      <th>Start</th>\n",
       "      <th>Stop</th>\n",
       "      <th>Strand</th>\n",
       "      <th>GeneID</th>\n",
       "      <th>Locus</th>\n",
       "      <th>Locus tag</th>\n",
       "      <th>Protein product</th>\n",
       "      <th>Length</th>\n",
       "      <th>COG(s)</th>\n",
       "      <th>Protein name</th>\n",
       "    </tr>\n",
       "  </thead>\n",
       "  <tbody>\n",
       "    <tr>\n",
       "      <th>0</th>\n",
       "      <td>chr</td>\n",
       "      <td>NC_000913.3</td>\n",
       "      <td>51609</td>\n",
       "      <td>52430</td>\n",
       "      <td>-</td>\n",
       "      <td>944939</td>\n",
       "      <td>rsmA</td>\n",
       "      <td>b0051</td>\n",
       "      <td>NP_414593.1</td>\n",
       "      <td>273</td>\n",
       "      <td>-</td>\n",
       "      <td>16S rRNA m(6)2A1518,m(6)2A1519 dimethyltransfe...</td>\n",
       "    </tr>\n",
       "    <tr>\n",
       "      <th>1</th>\n",
       "      <td>chr</td>\n",
       "      <td>NC_000913.3</td>\n",
       "      <td>59687</td>\n",
       "      <td>60346</td>\n",
       "      <td>-</td>\n",
       "      <td>946262</td>\n",
       "      <td>rluA</td>\n",
       "      <td>b0058</td>\n",
       "      <td>NP_414600.1</td>\n",
       "      <td>219</td>\n",
       "      <td>-</td>\n",
       "      <td>23S rRNA pseudouridine(746) and tRNA pseudouri...</td>\n",
       "    </tr>\n",
       "    <tr>\n",
       "      <th>2</th>\n",
       "      <td>chr</td>\n",
       "      <td>NC_000913.3</td>\n",
       "      <td>90094</td>\n",
       "      <td>91035</td>\n",
       "      <td>+</td>\n",
       "      <td>944806</td>\n",
       "      <td>rsmH</td>\n",
       "      <td>b0082</td>\n",
       "      <td>NP_414624.1</td>\n",
       "      <td>313</td>\n",
       "      <td>-</td>\n",
       "      <td>16S rRNA m(4)C1402 methyltransferase</td>\n",
       "    </tr>\n",
       "    <tr>\n",
       "      <th>3</th>\n",
       "      <td>chr</td>\n",
       "      <td>NC_000913.3</td>\n",
       "      <td>668248</td>\n",
       "      <td>668715</td>\n",
       "      <td>-</td>\n",
       "      <td>945239</td>\n",
       "      <td>rlmH</td>\n",
       "      <td>b0636</td>\n",
       "      <td>NP_415169.1</td>\n",
       "      <td>155</td>\n",
       "      <td>-</td>\n",
       "      <td>23S rRNA m(3)psi1915 methyltransferase</td>\n",
       "    </tr>\n",
       "    <tr>\n",
       "      <th>4</th>\n",
       "      <td>chr</td>\n",
       "      <td>NC_000913.3</td>\n",
       "      <td>842332</td>\n",
       "      <td>843258</td>\n",
       "      <td>+</td>\n",
       "      <td>944938</td>\n",
       "      <td>rlmF</td>\n",
       "      <td>b0807</td>\n",
       "      <td>NP_415328.4</td>\n",
       "      <td>308</td>\n",
       "      <td>-</td>\n",
       "      <td>23S rRNA m(6)A1618 methyltransferase</td>\n",
       "    </tr>\n",
       "  </tbody>\n",
       "</table>\n",
       "</div>"
      ],
      "text/plain": [
       "  Replicon Name Replicon Accession   Start    Stop Strand  GeneID Locus  \\\n",
       "0           chr        NC_000913.3   51609   52430      -  944939  rsmA   \n",
       "1           chr        NC_000913.3   59687   60346      -  946262  rluA   \n",
       "2           chr        NC_000913.3   90094   91035      +  944806  rsmH   \n",
       "3           chr        NC_000913.3  668248  668715      -  945239  rlmH   \n",
       "4           chr        NC_000913.3  842332  843258      +  944938  rlmF   \n",
       "\n",
       "  Locus tag Protein product  Length COG(s)  \\\n",
       "0     b0051     NP_414593.1     273      -   \n",
       "1     b0058     NP_414600.1     219      -   \n",
       "2     b0082     NP_414624.1     313      -   \n",
       "3     b0636     NP_415169.1     155      -   \n",
       "4     b0807     NP_415328.4     308      -   \n",
       "\n",
       "                                        Protein name  \n",
       "0  16S rRNA m(6)2A1518,m(6)2A1519 dimethyltransfe...  \n",
       "1  23S rRNA pseudouridine(746) and tRNA pseudouri...  \n",
       "2               16S rRNA m(4)C1402 methyltransferase  \n",
       "3             23S rRNA m(3)psi1915 methyltransferase  \n",
       "4               23S rRNA m(6)A1618 methyltransferase  "
      ]
     },
     "execution_count": 2,
     "metadata": {},
     "output_type": "execute_result"
    }
   ],
   "source": [
    "infile = '../data/ecoli.txt'\n",
    "df = pd.read_csv(infile, sep='\\t')\n",
    "df.head()"
   ]
  },
  {
   "cell_type": "markdown",
   "metadata": {
    "colab_type": "text",
    "id": "9TWwuHF2pO6C"
   },
   "source": [
    "**Rename columns or index**"
   ]
  },
  {
   "cell_type": "code",
   "execution_count": null,
   "metadata": {
    "ExecuteTime": {
     "end_time": "2017-09-18T10:14:07.365300",
     "start_time": "2017-09-18T10:14:07.343266Z"
    },
    "colab": {
     "base_uri": "https://localhost:8080/",
     "height": 180
    },
    "colab_type": "code",
    "executionInfo": {
     "elapsed": 621,
     "status": "error",
     "timestamp": 1588541685812,
     "user": {
      "displayName": "Kok Ann Gan",
      "photoUrl": "https://lh3.googleusercontent.com/a-/AOh14Gh4fyJoT-DLFp2xWPg4V6bfwpDbNk6EB3Z8jmA76g=s64",
      "userId": "13310954156692695935"
     },
     "user_tz": 240
    },
    "id": "BvJHXGK3pO6I",
    "outputId": "24920f0f-f8a8-4f64-fec6-775adacc2167",
    "run_control": {
     "frozen": false,
     "read_only": false
    }
   },
   "outputs": [],
   "source": [
    "# inplace=True will affect the current DataFrame\n",
    "df.rename(columns={\"Locus tag\":\"Locus Tag\", \"Protein product\":\"Protein Product\"}, inplace=True)\n",
    "df.head()"
   ]
  },
  {
   "cell_type": "code",
   "execution_count": null,
   "metadata": {
    "ExecuteTime": {
     "end_time": "2017-09-18T10:14:09.136417",
     "start_time": "2017-09-18T10:14:09.103618Z"
    },
    "colab": {},
    "colab_type": "code",
    "id": "pdGorxEWpO6T",
    "run_control": {
     "frozen": false,
     "read_only": false
    }
   },
   "outputs": [],
   "source": [
    "# inplace=False (default) will return a new DataFrame\n",
    "df = df.rename(index={0:-1}, inplace=False)\n",
    "df.head()"
   ]
  },
  {
   "cell_type": "markdown",
   "metadata": {
    "colab_type": "text",
    "id": "ZrQVFicBvOEa"
   },
   "source": [
    "**Resetting the Index**\n"
   ]
  },
  {
   "cell_type": "code",
   "execution_count": null,
   "metadata": {
    "colab": {
     "base_uri": "https://localhost:8080/",
     "height": 306
    },
    "colab_type": "code",
    "executionInfo": {
     "elapsed": 453,
     "status": "ok",
     "timestamp": 1587739166511,
     "user": {
      "displayName": "Emma Briars",
      "photoUrl": "https://lh3.googleusercontent.com/a-/AOh14Gj14uLObWQe3mbLX6o5aXvFBch63XWb_GUOD_jG=s64",
      "userId": "10583257419353631243"
     },
     "user_tz": 240
    },
    "id": "TVyyBJugvTTJ",
    "outputId": "5894048c-3854-435e-81f0-98da628767d4"
   },
   "outputs": [],
   "source": [
    "data = pd.read_csv(infile, sep='\\t', index_col='GeneID')\n",
    "data\n",
    "\n",
    "df = df.reset_index(drop=True)   #drop = avoid the old index being added as a column\n",
    "df.head()"
   ]
  },
  {
   "cell_type": "markdown",
   "metadata": {
    "colab_type": "text",
    "id": "AGSmmFsApO6V"
   },
   "source": [
    "**Discard a subset of columns**"
   ]
  },
  {
   "cell_type": "code",
   "execution_count": null,
   "metadata": {
    "ExecuteTime": {
     "end_time": "2017-09-18T10:14:12.630486",
     "start_time": "2017-09-18T10:14:12.604802Z"
    },
    "colab": {
     "base_uri": "https://localhost:8080/",
     "height": 204
    },
    "colab_type": "code",
    "executionInfo": {
     "elapsed": 692,
     "status": "ok",
     "timestamp": 1587739297739,
     "user": {
      "displayName": "Emma Briars",
      "photoUrl": "https://lh3.googleusercontent.com/a-/AOh14Gj14uLObWQe3mbLX6o5aXvFBch63XWb_GUOD_jG=s64",
      "userId": "10583257419353631243"
     },
     "user_tz": 240
    },
    "id": "qSBFGpzvpO6V",
    "outputId": "1179283d-f9ad-4e6f-c385-4f8c1b2e4ae8",
    "run_control": {
     "frozen": false,
     "read_only": false
    }
   },
   "outputs": [],
   "source": [
    "## Use name of columns\n",
    "df = df.drop(labels=[\"Replicon Name\", \"COG(s)\", \"Protein name\"], axis=1) # Axis 1 = Columns\n",
    "df.head()\n",
    "\n",
    "## Use index of column\n",
    "df2 = df.drop(df.columns[0,], axis=1)\n",
    "df2.head()"
   ]
  },
  {
   "cell_type": "markdown",
   "metadata": {
    "colab_type": "text",
    "id": "ZTEMm5v3pO6X"
   },
   "source": [
    "**Discard a subset of rows**"
   ]
  },
  {
   "cell_type": "code",
   "execution_count": null,
   "metadata": {
    "ExecuteTime": {
     "end_time": "2017-09-18T10:14:15.564339",
     "start_time": "2017-09-18T10:14:15.544856Z"
    },
    "colab": {},
    "colab_type": "code",
    "id": "UnPgiuWhpO6X",
    "run_control": {
     "frozen": false,
     "read_only": false
    }
   },
   "outputs": [],
   "source": [
    "df = df.drop(labels=[0, 2, 4], axis=0) # Axis 0 = Rows\n",
    "df.head()\n",
    "\n",
    "#df.reset_index(drop=True)"
   ]
  },
  {
   "cell_type": "markdown",
   "metadata": {
    "colab_type": "text",
    "id": "nuv83ITJpO6Z"
   },
   "source": [
    "**Sort by values or index**"
   ]
  },
  {
   "cell_type": "code",
   "execution_count": null,
   "metadata": {
    "ExecuteTime": {
     "end_time": "2017-09-18T10:18:56.894854",
     "start_time": "2017-09-18T10:18:56.873942Z"
    },
    "colab": {
     "base_uri": "https://localhost:8080/",
     "height": 204
    },
    "colab_type": "code",
    "executionInfo": {
     "elapsed": 552,
     "status": "ok",
     "timestamp": 1587739561212,
     "user": {
      "displayName": "Emma Briars",
      "photoUrl": "https://lh3.googleusercontent.com/a-/AOh14Gj14uLObWQe3mbLX6o5aXvFBch63XWb_GUOD_jG=s64",
      "userId": "10583257419353631243"
     },
     "user_tz": 240
    },
    "id": "fgvEBMrCpO6Z",
    "outputId": "0f74b7b6-22d3-4ba8-86d8-d838dcc64b09",
    "run_control": {
     "frozen": false,
     "read_only": false
    }
   },
   "outputs": [],
   "source": [
    "# With 1 value key\n",
    "df.sort_values(by=\"Length\", inplace=True)\n",
    "df.head()"
   ]
  },
  {
   "cell_type": "code",
   "execution_count": null,
   "metadata": {
    "ExecuteTime": {
     "end_time": "2017-09-18T10:18:58.382265",
     "start_time": "2017-09-18T10:18:58.359987Z"
    },
    "colab": {
     "base_uri": "https://localhost:8080/",
     "height": 204
    },
    "colab_type": "code",
    "executionInfo": {
     "elapsed": 428,
     "status": "ok",
     "timestamp": 1587739610988,
     "user": {
      "displayName": "Emma Briars",
      "photoUrl": "https://lh3.googleusercontent.com/a-/AOh14Gj14uLObWQe3mbLX6o5aXvFBch63XWb_GUOD_jG=s64",
      "userId": "10583257419353631243"
     },
     "user_tz": 240
    },
    "id": "4OAKpO-lpO6f",
    "outputId": "fd40bb36-76a3-4a65-ac05-b135755faf14",
    "run_control": {
     "frozen": false,
     "read_only": false
    }
   },
   "outputs": [],
   "source": [
    "# With several value keys\n",
    "df.sort_values(by=[\"Length\", \"Start\"], inplace=True)\n",
    "df.head()"
   ]
  },
  {
   "cell_type": "code",
   "execution_count": null,
   "metadata": {
    "ExecuteTime": {
     "end_time": "2017-09-18T10:28:33.437274",
     "start_time": "2017-09-18T10:28:33.420952Z"
    },
    "colab": {
     "base_uri": "https://localhost:8080/",
     "height": 204
    },
    "colab_type": "code",
    "executionInfo": {
     "elapsed": 343,
     "status": "ok",
     "timestamp": 1587739626694,
     "user": {
      "displayName": "Emma Briars",
      "photoUrl": "https://lh3.googleusercontent.com/a-/AOh14Gj14uLObWQe3mbLX6o5aXvFBch63XWb_GUOD_jG=s64",
      "userId": "10583257419353631243"
     },
     "user_tz": 240
    },
    "id": "tU6xrJtGpO6h",
    "outputId": "22a84277-d867-41ad-fa27-a2f13cf22a79",
    "run_control": {
     "frozen": false,
     "read_only": false
    }
   },
   "outputs": [],
   "source": [
    "# With the index\n",
    "df.sort_index(inplace=True, ascending=True)\n",
    "df.head()"
   ]
  },
  {
   "cell_type": "markdown",
   "metadata": {
    "colab_type": "text",
    "id": "nEF3Ek3ppO6w"
   },
   "source": [
    "**Transposing Data**"
   ]
  },
  {
   "cell_type": "code",
   "execution_count": null,
   "metadata": {
    "ExecuteTime": {
     "end_time": "2017-09-18T10:28:47.578375",
     "start_time": "2017-09-18T10:28:47.538078Z"
    },
    "colab": {
     "base_uri": "https://localhost:8080/",
     "height": 270
    },
    "colab_type": "code",
    "executionInfo": {
     "elapsed": 663,
     "status": "ok",
     "timestamp": 1587739740355,
     "user": {
      "displayName": "Emma Briars",
      "photoUrl": "https://lh3.googleusercontent.com/a-/AOh14Gj14uLObWQe3mbLX6o5aXvFBch63XWb_GUOD_jG=s64",
      "userId": "10583257419353631243"
     },
     "user_tz": 240
    },
    "id": "l345ZRU1pO6x",
    "outputId": "4760335f-1240-4e5a-85d2-69aeef11195d",
    "run_control": {
     "frozen": false,
     "read_only": false
    }
   },
   "outputs": [],
   "source": [
    "df_t = df.transpose().head()\n",
    "df_t.head()"
   ]
  },
  {
   "cell_type": "markdown",
   "metadata": {
    "colab_type": "text",
    "id": "TUmm15HO4mNM"
   },
   "source": [
    "**Grouping Data Using `groupby`**"
   ]
  },
  {
   "cell_type": "code",
   "execution_count": null,
   "metadata": {},
   "outputs": [],
   "source": [
    "# Create groupby object\n",
    "df.groupby(\"Strand\")"
   ]
  },
  {
   "cell_type": "code",
   "execution_count": null,
   "metadata": {},
   "outputs": [],
   "source": [
    "# Summary statistics, split between '+' and '-' strands\n",
    "df.groupby(\"Strand\").describe()"
   ]
  },
  {
   "cell_type": "code",
   "execution_count": null,
   "metadata": {},
   "outputs": [],
   "source": [
    "# Summary statistics of gene lengths between '+' and '-' strands\n",
    "df.groupby(\"Strand\").describe()[\"Length\"]"
   ]
  },
  {
   "cell_type": "code",
   "execution_count": null,
   "metadata": {
    "colab": {
     "base_uri": "https://localhost:8080/",
     "height": 85
    },
    "colab_type": "code",
    "executionInfo": {
     "elapsed": 479,
     "status": "ok",
     "timestamp": 1587739938434,
     "user": {
      "displayName": "Emma Briars",
      "photoUrl": "https://lh3.googleusercontent.com/a-/AOh14Gj14uLObWQe3mbLX6o5aXvFBch63XWb_GUOD_jG=s64",
      "userId": "10583257419353631243"
     },
     "user_tz": 240
    },
    "id": "l0RCEso24wjW",
    "outputId": "4ce0e7b1-66f4-4936-a31d-a0d219931c94"
   },
   "outputs": [],
   "source": [
    "# Max gene length for '+' and '-' strands\n",
    "df.groupby(\"Strand\").describe()[\"Length\"][\"max\"]"
   ]
  },
  {
   "cell_type": "markdown",
   "metadata": {
    "colab_type": "text",
    "id": "JVyHwGd8pO6z"
   },
   "source": [
    "### Concatenate and merging DataFrame"
   ]
  },
  {
   "cell_type": "markdown",
   "metadata": {
    "colab_type": "text",
    "heading_collapsed": true,
    "id": "IisTEdf_pO60"
   },
   "source": [
    "#### Concatenate along columns (stack dataframes)"
   ]
  },
  {
   "cell_type": "code",
   "execution_count": null,
   "metadata": {
    "ExecuteTime": {
     "end_time": "2017-09-18T10:54:01.176306",
     "start_time": "2017-09-18T10:54:01.137943Z"
    },
    "colab": {
     "base_uri": "https://localhost:8080/",
     "height": 421
    },
    "colab_type": "code",
    "executionInfo": {
     "elapsed": 674,
     "status": "ok",
     "timestamp": 1587740183625,
     "user": {
      "displayName": "Emma Briars",
      "photoUrl": "https://lh3.googleusercontent.com/a-/AOh14Gj14uLObWQe3mbLX6o5aXvFBch63XWb_GUOD_jG=s64",
      "userId": "10583257419353631243"
     },
     "user_tz": 240
    },
    "hidden": true,
    "id": "k_CZI9V_pO7M",
    "outputId": "f1e7328b-1244-4059-8792-2f72fc3f9c5b",
    "run_control": {
     "frozen": false,
     "read_only": false
    },
    "scrolled": true
   },
   "outputs": [],
   "source": [
    "df1 = pd.DataFrame({'A': ['A0', 'A1', 'A2', 'A3'], 'B': ['B0', 'B1', 'B2', 'B3'], 'C': ['C0', 'C1', 'C2', 'C3'], 'D': ['D0', 'D1', 'D2', 'D3']}, index=[0, 1, 2, 3])\n",
    "df2 = pd.DataFrame({'A': ['A4', 'A5', 'A6', 'A7'], 'B': ['B4', 'B5', 'B6', 'B7'], 'C': ['C4', 'C5', 'C6', 'C7'], 'D': ['D4', 'D5', 'D6', 'D7']}, index=[4, 5, 6, 7])\n",
    "df3 = pd.DataFrame({'A': ['A8', 'A9', 'A10', 'A11'], 'B': ['B8', 'B9', 'B10', 'B11'], 'C': ['C8', 'C9', 'C10', 'C11'], 'D': ['D8', 'D9', 'D10', 'D11']}, index=[8, 9, 10, 11])\n",
    "\n",
    "df4 = pd.concat([df1, df3, df2], axis=0)\n",
    "df4"
   ]
  },
  {
   "cell_type": "markdown",
   "metadata": {
    "colab_type": "text",
    "heading_collapsed": true,
    "id": "IVaiW1AjpO7v"
   },
   "source": [
    "#### Concatenate along rows"
   ]
  },
  {
   "cell_type": "code",
   "execution_count": null,
   "metadata": {
    "ExecuteTime": {
     "end_time": "2017-09-18T10:56:40.814865",
     "start_time": "2017-09-18T10:56:40.792881Z"
    },
    "colab": {
     "base_uri": "https://localhost:8080/",
     "height": 235
    },
    "colab_type": "code",
    "executionInfo": {
     "elapsed": 625,
     "status": "ok",
     "timestamp": 1587740248992,
     "user": {
      "displayName": "Emma Briars",
      "photoUrl": "https://lh3.googleusercontent.com/a-/AOh14Gj14uLObWQe3mbLX6o5aXvFBch63XWb_GUOD_jG=s64",
      "userId": "10583257419353631243"
     },
     "user_tz": 240
    },
    "hidden": true,
    "id": "XCkRmIb4pO79",
    "outputId": "fa86c2db-38a6-4317-95a1-dac2c99e6318",
    "run_control": {
     "frozen": false,
     "read_only": false
    }
   },
   "outputs": [],
   "source": [
    "df1 = pd.DataFrame({'A': ['A0', 'A1', 'A2', 'A3'], 'B': ['B0', 'B1', 'B2', 'B3'], 'C': ['C0', 'C1', 'C2', 'C3'], 'D': ['D0', 'D1', 'D2', 'D3']}, index=[0, 1, 2, 3])\n",
    "df2= pd.DataFrame({'B': ['B2', 'B3', 'B6', 'B7'], 'D': ['D2', 'D3', 'D6', 'D7'], 'F': ['F2', 'F3', 'F6', 'F7']}, index=[2, 3, 6, 7])\n",
    "\n",
    "df1\n",
    "\n",
    "df3 = pd.concat([df1, df2], axis=1)\n",
    "df3"
   ]
  },
  {
   "cell_type": "markdown",
   "metadata": {
    "colab_type": "text",
    "heading_collapsed": true,
    "id": "OFR5piF5pO8s"
   },
   "source": [
    "#### Database-style DataFrame joining/merging"
   ]
  },
  {
   "cell_type": "markdown",
   "metadata": {
    "ExecuteTime": {
     "end_time": "2017-09-18T11:51:38.364776",
     "start_time": "2017-09-18T11:51:38.346472Z"
    },
    "colab_type": "text",
    "hidden": true,
    "id": "iahnyuC5pO8-"
   },
   "source": [
    "> pd.merge(left, right, how='inner', on=None, left_on=None, right_on=None, left_index=False, right_index=False, sort=True, suffixes=('_x', '_y'), copy=True, indicator=False)\n",
    "\n",
    "> DataFrame.join(self, other, on=None, how='left', lsuffix='', rsuffix='', sort=False)"
   ]
  },
  {
   "cell_type": "code",
   "execution_count": null,
   "metadata": {
    "ExecuteTime": {
     "end_time": "2017-09-18T11:57:29.493708",
     "start_time": "2017-09-18T11:57:29.488181Z"
    },
    "colab": {},
    "colab_type": "code",
    "hidden": true,
    "id": "krbWSK1GpO8-",
    "run_control": {
     "frozen": false,
     "read_only": false
    }
   },
   "outputs": [],
   "source": [
    "left = pd.DataFrame({'A': ['A0', 'A1', 'A2'], 'B': ['B0', 'B1', 'B2']}, index=['K0', 'K1', 'K2'])\n",
    "right = pd.DataFrame({'C': ['C0', 'C2', 'C3'], 'D': ['D0', 'D2', 'D3']}, index=['K0', 'K2', 'K3'])"
   ]
  },
  {
   "cell_type": "code",
   "execution_count": null,
   "metadata": {
    "ExecuteTime": {
     "end_time": "2017-09-18T11:58:19.352059",
     "start_time": "2017-09-18T11:58:19.335592Z"
    },
    "colab": {},
    "colab_type": "code",
    "hidden": true,
    "id": "w3NsaCfipO9B",
    "run_control": {
     "frozen": false,
     "read_only": false
    },
    "scrolled": true
   },
   "outputs": [],
   "source": [
    "pd.merge(left, right, left_index=True, right_index=True, how='outer')"
   ]
  },
  {
   "cell_type": "code",
   "execution_count": null,
   "metadata": {
    "ExecuteTime": {
     "end_time": "2017-09-18T11:58:32.644525",
     "start_time": "2017-09-18T11:58:32.630286Z"
    },
    "colab": {},
    "colab_type": "code",
    "hidden": true,
    "id": "wCX0kYRZpO9D",
    "run_control": {
     "frozen": false,
     "read_only": false
    }
   },
   "outputs": [],
   "source": [
    "pd.merge(left, right, left_index=True, right_index=True, how='inner')"
   ]
  },
  {
   "cell_type": "markdown",
   "metadata": {},
   "source": [
    "---\n"
   ]
  },
  {
   "cell_type": "markdown",
   "metadata": {},
   "source": [
    "Exercises\n",
    "---------"
   ]
  },
  {
   "cell_type": "markdown",
   "metadata": {},
   "source": [
    "Using the table from this URL: https://evocellnet.github.io/ecoref/data/phenotypic_data.tsv"
   ]
  },
  {
   "cell_type": "markdown",
   "metadata": {},
   "source": [
    "Sort the table so that the s-scores are sorted in descending format for each condition"
   ]
  },
  {
   "cell_type": "code",
   "execution_count": null,
   "metadata": {},
   "outputs": [],
   "source": []
  },
  {
   "cell_type": "markdown",
   "metadata": {},
   "source": [
    "Rename the columns so that each column name starts with an uppercase character"
   ]
  },
  {
   "cell_type": "code",
   "execution_count": null,
   "metadata": {},
   "outputs": [],
   "source": []
  },
  {
   "cell_type": "markdown",
   "metadata": {},
   "source": [
    "Add the strain name using the data from this other table: https://evocellnet.github.io/ecoref/data/strains.tsv"
   ]
  },
  {
   "cell_type": "code",
   "execution_count": null,
   "metadata": {},
   "outputs": [],
   "source": []
  },
  {
   "cell_type": "markdown",
   "metadata": {},
   "source": [
    "Add the type of condition using the data from this other table: https://evocellnet.github.io/ecoref/data/conditions.tsv"
   ]
  },
  {
   "cell_type": "code",
   "execution_count": null,
   "metadata": {},
   "outputs": [],
   "source": []
  },
  {
   "cell_type": "markdown",
   "metadata": {},
   "source": [
    "Using the table from this URL: https://evocellnet.github.io/ecoref/data/phenotypic_data.tsv, can you reshape it using one of the following functions so that it has strains as rows, conditions as columns, and s-scores as values?\n",
    "\n",
    "*   `pivot()` or `pivot_table()`\n",
    "*   `stack()`\n",
    "*   `unstack()`\n",
    "*   `melt()`\n",
    "\n",
    "**Extra:** can you do it so that you have both s-scores and corrected-p-values?\n",
    "\n",
    "**Extra:** can you handle missing values so that they get assigned a default value of 0?"
   ]
  },
  {
   "cell_type": "code",
   "execution_count": null,
   "metadata": {},
   "outputs": [],
   "source": []
  }
 ],
 "metadata": {
  "celltoolbar": "Initialisation Cell",
  "colab": {
   "collapsed_sections": [
    "_XD_wsn6xlTl",
    "ZWCuCc4vROju",
    "CI-UTzd2R1Tj",
    "ojGccYivUpfh",
    "KkpCA2MgoDv3",
    "M4GXygU-oRG0",
    "otmrx772ozbH",
    "iMfD4TqHOEAC",
    "V_HsX1AtQJAO",
    "gCH26vTjpO1V",
    "MBG0FKUyRd6r",
    "KvjjgiS1pO5_",
    "JVyHwGd8pO6z",
    "IisTEdf_pO60",
    "IVaiW1AjpO7v",
    "OFR5piF5pO8s",
    "yh1-OLBwpO9T",
    "g1i0H2nHpO9x",
    "b36dVw7bpO-r",
    "pTBV83wxpO_K"
   ],
   "name": "2_python_intro-to-pandas.ipynb",
   "provenance": []
  },
  "kernelspec": {
   "display_name": "Python 3",
   "language": "python",
   "name": "python3"
  },
  "language_info": {
   "codemirror_mode": {
    "name": "ipython",
    "version": 3
   },
   "file_extension": ".py",
   "mimetype": "text/x-python",
   "name": "python",
   "nbconvert_exporter": "python",
   "pygments_lexer": "ipython3",
   "version": "3.8.10"
  }
 },
 "nbformat": 4,
 "nbformat_minor": 4
}
