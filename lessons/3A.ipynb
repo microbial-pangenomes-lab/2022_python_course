{
 "cells": [
  {
   "cell_type": "markdown",
   "metadata": {},
   "source": [
    "Plotting with matplotlib - 1\n",
    "========================"
   ]
  },
  {
   "cell_type": "code",
   "execution_count": 2,
   "metadata": {},
   "outputs": [],
   "source": [
    "# plotting imports\n",
    "import matplotlib.pyplot as plt\n",
    "import seaborn as sns"
   ]
  },
  {
   "cell_type": "code",
   "execution_count": 3,
   "metadata": {},
   "outputs": [],
   "source": [
    "# other imports\n",
    "import numpy as np\n",
    "import pandas as pd\n",
    "from scipy import stats"
   ]
  },
  {
   "cell_type": "markdown",
   "metadata": {},
   "source": [
    "Hello world\n",
    "---\n",
    "\n",
    "Using the `pyplot` notation, very similar to how MATLAB works"
   ]
  },
  {
   "cell_type": "code",
   "execution_count": null,
   "metadata": {},
   "outputs": [],
   "source": [
    "plt.plot([0, 1, 2, 3, 4],\n",
    "         [0, 1, 2, 5, 10], 'bo-')\n",
    "plt.text(1.5, 5, 'Hello world', size=14)\n",
    "plt.xlabel('X axis\\n($\\mu g/mL$)')\n",
    "plt.ylabel('y axis\\n($X^2$)');"
   ]
  },
  {
   "cell_type": "markdown",
   "metadata": {},
   "source": [
    "Hello world, reprise\n",
    "---\n",
    "\n",
    "Using the reccommended \"object-oriented\" (OO) style"
   ]
  },
  {
   "cell_type": "code",
   "execution_count": null,
   "metadata": {},
   "outputs": [],
   "source": [
    "fig, ax = plt.subplots()\n",
    "ax.plot([0, 1, 2, 3, 4],\n",
    "        [0, 1, 2, 5, 10], 'bo-')\n",
    "ax.text(1.5, 5, 'Hello world', size=14)\n",
    "ax.set_xlabel('X axis\\n($\\mu g/mL$)')\n",
    "ax.set_ylabel('y axis\\n($X^2$)');"
   ]
  },
  {
   "cell_type": "code",
   "execution_count": null,
   "metadata": {},
   "outputs": [],
   "source": [
    "# create some data\n",
    "x = np.linspace(0, 2, 100)"
   ]
  },
  {
   "cell_type": "code",
   "execution_count": null,
   "metadata": {},
   "outputs": [],
   "source": [
    "fig, ax = plt.subplots()\n",
    "\n",
    "ax.plot(x, x, label='linear')\n",
    "ax.plot(x, x**2, label='quadratic')\n",
    "ax.plot(x, x**3, label='cubic')\n",
    "\n",
    "ax.set_xlabel('x label')\n",
    "ax.set_ylabel('y label')\n",
    "ax.set_title('Simple Plot')\n",
    "ax.legend()"
   ]
  },
  {
   "cell_type": "markdown",
   "metadata": {},
   "source": [
    "Controlling a figure aspect\n",
    "---"
   ]
  },
  {
   "cell_type": "code",
   "execution_count": null,
   "metadata": {},
   "outputs": [],
   "source": [
    "# figure size\n",
    "# width / height\n",
    "fig, ax = plt.subplots(figsize=(9, 4))\n",
    "\n",
    "ax.plot(x, x, label='linear')\n",
    "ax.plot(x, x**2, label='quadratic')\n",
    "ax.plot(x, x**3, label='cubic')\n",
    "\n",
    "ax.set_xlabel('x label')\n",
    "ax.set_ylabel('y label')\n",
    "ax.set_title('Simple Plot')\n",
    "ax.legend();"
   ]
  },
  {
   "cell_type": "code",
   "execution_count": null,
   "metadata": {},
   "outputs": [],
   "source": [
    "fig, ax = plt.subplots(figsize=(9, 4))\n",
    "\n",
    "# change markers\n",
    "ax.plot(x, x, '--', color='grey', label='linear')\n",
    "ax.plot(x, x**2, '.-', color='red', label='quadratic')\n",
    "ax.plot(x, x**3, '*', color='#3bb44a', label='cubic')\n",
    "\n",
    "ax.set_xlabel('x label')\n",
    "ax.set_ylabel('y label')\n",
    "ax.set_title('Simple Plot')\n",
    "\n",
    "# move the legend\n",
    "ax.legend(loc='upper right');\n",
    "# alternative ways to move it\n",
    "# ax.legend(loc='center left',\n",
    "#            bbox_to_anchor=(1, 0.5),\n",
    "#            ncol=3);"
   ]
  },
  {
   "cell_type": "markdown",
   "metadata": {},
   "source": [
    "Multiple panels\n",
    "---"
   ]
  },
  {
   "cell_type": "code",
   "execution_count": null,
   "metadata": {},
   "outputs": [],
   "source": [
    "x1 = np.linspace(0.0, 5.0)\n",
    "x2 = np.linspace(0.0, 2.0)\n",
    "\n",
    "y1 = np.cos(2 * np.pi * x1) * np.exp(-x1)\n",
    "y2 = np.cos(2 * np.pi * x2)\n",
    "\n",
    "# rows, columns\n",
    "fig, axes = plt.subplots(2, 1, figsize=(6, 4))\n",
    "\n",
    "# axes is a list of \"panels\"\n",
    "print(axes)\n",
    "\n",
    "ax = axes[0]\n",
    "ax.plot(x1, y1, 'o-')\n",
    "ax.set_title('A tale of 2 subplots')\n",
    "ax.set_ylabel('Damped oscillation')\n",
    "\n",
    "ax = axes[1]\n",
    "ax.plot(x2, y2, '.-')\n",
    "ax.set_xlabel('time (s)')\n",
    "ax.set_ylabel('Undamped');"
   ]
  },
  {
   "cell_type": "markdown",
   "metadata": {},
   "source": [
    "Automagically adjust panels so that they fit in the figure\n",
    "---"
   ]
  },
  {
   "cell_type": "code",
   "execution_count": null,
   "metadata": {},
   "outputs": [],
   "source": [
    "def example_plot(ax, fontsize=12):\n",
    "    ax.plot([1, 2])\n",
    "\n",
    "    ax.set_xlabel('x-label', fontsize=fontsize)\n",
    "    ax.set_ylabel('y-label', fontsize=fontsize)\n",
    "    ax.set_title('Title', fontsize=fontsize)"
   ]
  },
  {
   "cell_type": "code",
   "execution_count": null,
   "metadata": {},
   "outputs": [],
   "source": [
    "fig, axs = plt.subplots(2, 2, figsize=(4, 4),\n",
    "                        constrained_layout=False)\n",
    "print(axs)\n",
    "for ax in axs.flat:\n",
    "    example_plot(ax)"
   ]
  },
  {
   "cell_type": "code",
   "execution_count": null,
   "metadata": {},
   "outputs": [],
   "source": [
    "# warning: \"constrained_layout\" is an experimental feature\n",
    "fig, axs = plt.subplots(2, 2, figsize=(4, 4),\n",
    "                        constrained_layout=True)\n",
    "\n",
    "for ax in axs.flat:\n",
    "    example_plot(ax)"
   ]
  },
  {
   "cell_type": "code",
   "execution_count": null,
   "metadata": {},
   "outputs": [],
   "source": [
    "# alternative way\n",
    "fig, axs = plt.subplots(2, 2, figsize=(4, 4), constrained_layout=False)\n",
    "\n",
    "for ax in axs.flat:\n",
    "    example_plot(ax)\n",
    "    \n",
    "# alternative to constrained_layout\n",
    "plt.tight_layout();"
   ]
  },
  {
   "cell_type": "markdown",
   "metadata": {},
   "source": [
    "Example of manipulating axes limits\n",
    "---\n",
    "\n",
    "Extra: a look at ways to choose colors\n",
    "and manipulating transparency"
   ]
  },
  {
   "cell_type": "code",
   "execution_count": null,
   "metadata": {},
   "outputs": [],
   "source": [
    "fig, axes = plt.subplots(1, 2, figsize=(9, 4))\n",
    "\n",
    "# same plot for both panels\n",
    "# we are just gonna change the axes' limits\n",
    "for ax in axes:\n",
    "    # more color choices\n",
    "    # (see here for a full list: https://matplotlib.org/tutorials/colors/colors.html)\n",
    "    \n",
    "    # xkcd rgb color survey: https://xkcd.com/color/rgb/\n",
    "    ax.plot(x, x, '--', color='xkcd:olive green', label='linear')\n",
    "    # RGBA (red, green, blue, alpha)\n",
    "    ax.plot(x, x**2, '.-', color=(0.1, 0.2, 0.5, 0.3), label='quadratic')\n",
    "    # one of {'b', 'g', 'r', 'c', 'm', 'y', 'k', 'w'}\n",
    "    # they are the single character short-hand notations for:\n",
    "    # blue, green, red, cyan, magenta, yellow, black, and white\n",
    "    ax.plot(x, x**3, '*', color='m', label='cubic')\n",
    "    # transparency can be manipulated with the \"alpha\" kwarg (= keyword argument)\n",
    "    ax.plot(x, x**4, '-', color='b', linewidth=4, alpha=0.3, label='white house')\n",
    "\n",
    "    ax.set_xlabel('x label')\n",
    "    ax.set_ylabel('y label')\n",
    "    ax.set_title('Simple Plot')\n",
    "\n",
    "# only manipulate last axes\n",
    "ax.set_ylim(1, 16.4)\n",
    "ax.set_xlim(1.65, 2.03)\n",
    "\n",
    "ax.legend(loc='center left',\n",
    "          bbox_to_anchor=(1, 0.5),\n",
    "          title='Fit');"
   ]
  },
  {
   "cell_type": "markdown",
   "metadata": {},
   "source": [
    "Other sample plots using \"vanilla\" matplotlib\n",
    "---"
   ]
  },
  {
   "cell_type": "code",
   "execution_count": null,
   "metadata": {},
   "outputs": [],
   "source": [
    "# scatter plot\n",
    "fig, ax = plt.subplots(figsize=(6, 4))\n",
    "\n",
    "N = 10\n",
    "x = np.linspace(0, 1, N)\n",
    "y = x ** 2\n",
    "# colors is a list of colors\n",
    "# in the same format as shown before\n",
    "colors = np.linspace(0, 1, N)\n",
    "# alternative\n",
    "# colors = ['b', 'b', 'b',\n",
    "#           'k', 'k', 'k',\n",
    "#           'r', 'r', 'r',\n",
    "#           'xkcd:jade']\n",
    "area = 5 + (20 * x) ** 3\n",
    "\n",
    "print(f'x: {x}')\n",
    "print(f'y: {y}')\n",
    "print(f'colors: {colors}')\n",
    "print(f'area: {area}')\n",
    "\n",
    "ax.scatter(x, y, s=area, c=colors,\n",
    "           alpha=0.9,\n",
    "           edgecolors='w', linewidths=3,\n",
    "           label='Data')\n",
    "ax.legend(loc='upper left');"
   ]
  },
  {
   "cell_type": "code",
   "execution_count": null,
   "metadata": {},
   "outputs": [],
   "source": [
    "# generate 2d random data\n",
    "data = np.random.randn(2, 100)\n",
    "data"
   ]
  },
  {
   "cell_type": "code",
   "execution_count": null,
   "metadata": {},
   "outputs": [],
   "source": [
    "# histogram\n",
    "fig, axs = plt.subplots(1, 2, figsize=(6, 3))\n",
    "\n",
    "bins = 25\n",
    "\n",
    "axs[0].hist(data[0], bins=bins)\n",
    "axs[1].hist2d(data[0], data[1], bins=bins);"
   ]
  },
  {
   "cell_type": "markdown",
   "metadata": {},
   "source": [
    "Other useful tips\n",
    "---"
   ]
  },
  {
   "cell_type": "code",
   "execution_count": null,
   "metadata": {},
   "outputs": [],
   "source": [
    "# scatter plot with log axes\n",
    "fig, ax = plt.subplots(figsize=(6, 4))\n",
    "\n",
    "N = 10\n",
    "x = np.linspace(0, 10, N)\n",
    "y = 2 ** x\n",
    "colors = np.linspace(0, 1, N)\n",
    "area = 500\n",
    "\n",
    "ax.scatter(x, y, s=area, c=colors,\n",
    "           alpha=0.9,\n",
    "           edgecolors='w', linewidths=3,\n",
    "           label='Data')\n",
    "ax.set_yscale('log', base=10);"
   ]
  },
  {
   "cell_type": "code",
   "execution_count": null,
   "metadata": {},
   "outputs": [],
   "source": [
    "# scatter plot with log axes\n",
    "fig, ax = plt.subplots(figsize=(6, 4))\n",
    "\n",
    "N = 10\n",
    "x = 10 ** np.linspace(1, 4, N)\n",
    "y = x ** 2\n",
    "colors = np.linspace(0, 1, N)\n",
    "area = 500\n",
    "\n",
    "ax.scatter(x, y, s=area, c=colors,\n",
    "           alpha=0.9,\n",
    "           edgecolors='w', linewidths=3,\n",
    "           label='Data')\n",
    "ax.set_yscale('log', base=2)\n",
    "ax.set_xscale('log', base=10);"
   ]
  },
  {
   "cell_type": "code",
   "execution_count": null,
   "metadata": {},
   "outputs": [],
   "source": [
    "# changing colormap\n",
    "# find an exhaustive list here:\n",
    "# https://matplotlib.org/3.1.0/tutorials/colors/colormaps.html\n",
    "fig, ax = plt.subplots(figsize=(6, 4))\n",
    "\n",
    "N = 10\n",
    "x = 10 ** np.linspace(1, 4, N)\n",
    "y = x ** 2\n",
    "colors = np.linspace(0, 1, N)\n",
    "area = 500\n",
    "\n",
    "ax.scatter(x, y, s=area, c=colors,\n",
    "           alpha=0.9,\n",
    "           edgecolors='w', linewidths=3,\n",
    "           label='Data',\n",
    "#            cmap='plasma',\n",
    "#            cmap='jet',\n",
    "#            cmap='Blues',\n",
    "#            cmap='Blues_r',\n",
    "           cmap='tab20',\n",
    "          )\n",
    "ax.set_yscale('log', base=2)\n",
    "ax.set_xscale('log', base=10);"
   ]
  },
  {
   "cell_type": "markdown",
   "metadata": {},
   "source": [
    "Saving your plot\n",
    "---"
   ]
  },
  {
   "cell_type": "code",
   "execution_count": null,
   "metadata": {},
   "outputs": [],
   "source": [
    "fig, ax = plt.subplots(figsize=(3, 2))\n",
    "\n",
    "N = 10\n",
    "x = 10 ** np.linspace(1, 4, N)\n",
    "y = x ** 2\n",
    "colors = np.linspace(0, 1, N)\n",
    "area = 500\n",
    "\n",
    "ax.scatter(x, y, s=area, c=colors,\n",
    "           alpha=0.9,\n",
    "           edgecolors='w', linewidths=3,\n",
    "           cmap='tab20',\n",
    "           label='My awesome data is the best thing ever',\n",
    "#            rasterized=True\n",
    "          )\n",
    "\n",
    "ax.legend(bbox_to_anchor=(1, 0.5),\n",
    "          loc='center left')\n",
    "\n",
    "ax.set_yscale('log', basey=2)\n",
    "ax.set_xscale('log', basex=10)\n",
    "\n",
    "plt.savefig('the_awesomest_plot_ever.png',\n",
    "            dpi=300,\n",
    "            bbox_inches='tight',\n",
    "            transparent=True\n",
    "           )\n",
    "plt.savefig('the_awesomest_plot_ever.svg',\n",
    "            dpi=300, bbox_inches='tight',\n",
    "            transparent=True);"
   ]
  },
  {
   "cell_type": "markdown",
   "metadata": {},
   "source": [
    "---\n"
   ]
  },
  {
   "cell_type": "markdown",
   "metadata": {},
   "source": [
    "Exercises\n",
    "---------"
   ]
  },
  {
   "cell_type": "markdown",
   "metadata": {},
   "source": [
    "Using the data from this URL: https://evocellnet.github.io/ecoref/data/phenotypic_data.tsv"
   ]
  },
  {
   "cell_type": "markdown",
   "metadata": {},
   "source": [
    "Can you make a scatterplot for the relationship between s-scores and the corrected p-value?"
   ]
  },
  {
   "cell_type": "code",
   "execution_count": null,
   "metadata": {},
   "outputs": [],
   "source": []
  },
  {
   "cell_type": "markdown",
   "metadata": {},
   "source": [
    "Can you make a scatterplot for the relationship between s-scores and the corrected p-value, but only considering two strains plotted with different colors?"
   ]
  },
  {
   "cell_type": "code",
   "execution_count": null,
   "metadata": {},
   "outputs": [],
   "source": []
  },
  {
   "cell_type": "markdown",
   "metadata": {},
   "source": [
    "Select four conditions and create a multipanel figure with the same scatterplot for each condition. Experiment with different layouts"
   ]
  },
  {
   "cell_type": "code",
   "execution_count": null,
   "metadata": {},
   "outputs": [],
   "source": []
  },
  {
   "cell_type": "markdown",
   "metadata": {},
   "source": [
    "Using the [Iris dataset](https://en.wikipedia.org/wiki/Iris_flower_data_set) (which you can find at `../data/iris.csv`), prepare the following plot: for each pair of variables, prepare a scatterplot with each species having its own color"
   ]
  },
  {
   "cell_type": "code",
   "execution_count": null,
   "metadata": {},
   "outputs": [],
   "source": []
  },
  {
   "cell_type": "markdown",
   "metadata": {},
   "source": [
    "Make the same series of plots as before but in a single figure"
   ]
  },
  {
   "cell_type": "code",
   "execution_count": null,
   "metadata": {},
   "outputs": [],
   "source": []
  },
  {
   "cell_type": "markdown",
   "metadata": {},
   "source": [
    "Make a single panel now, changing the dots' sizes according to the third variable"
   ]
  },
  {
   "cell_type": "code",
   "execution_count": null,
   "metadata": {},
   "outputs": [],
   "source": []
  }
 ],
 "metadata": {
  "kernelspec": {
   "display_name": "Python 3",
   "language": "python",
   "name": "python3"
  },
  "language_info": {
   "codemirror_mode": {
    "name": "ipython",
    "version": 3
   },
   "file_extension": ".py",
   "mimetype": "text/x-python",
   "name": "python",
   "nbconvert_exporter": "python",
   "pygments_lexer": "ipython3",
   "version": "3.8.10"
  }
 },
 "nbformat": 4,
 "nbformat_minor": 4
}
