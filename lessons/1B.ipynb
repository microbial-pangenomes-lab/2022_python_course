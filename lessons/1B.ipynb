{
 "cells": [
  {
   "cell_type": "markdown",
   "metadata": {
    "colab_type": "text",
    "id": "tKovrCH-uZqX"
   },
   "source": [
    "Basic Python and native data structures - 2\n",
    "=========="
   ]
  },
  {
   "cell_type": "markdown",
   "metadata": {
    "colab_type": "text",
    "id": "mvFVKiVuuZ3V"
   },
   "source": [
    "Functions\n",
    "-------\n",
    "\n",
    "Allows to re-use code in a flexible way"
   ]
  },
  {
   "cell_type": "code",
   "execution_count": null,
   "metadata": {
    "colab": {},
    "colab_type": "code",
    "id": "srz1wMmbuZ3W",
    "run_control": {
     "frozen": false,
     "read_only": false
    }
   },
   "outputs": [],
   "source": [
    "def sum_numbers(first, second):\n",
    "    third = first + second\n",
    "    return third"
   ]
  },
  {
   "cell_type": "code",
   "execution_count": null,
   "metadata": {
    "colab": {
     "base_uri": "https://localhost:8080/",
     "height": 34
    },
    "colab_type": "code",
    "collapsed": false,
    "executionInfo": {
     "elapsed": 863,
     "status": "ok",
     "timestamp": 1587053744641,
     "user": {
      "displayName": "Giulio Chiesa",
      "photoUrl": "https://lh3.googleusercontent.com/a-/AOh14GhTac43NP5I-bvSTBnu8F6fSvW7zZ-hiaOhXGI7bw=s64",
      "userId": "10704203183164546918"
     },
     "user_tz": 240
    },
    "id": "MnkjZ1yDuZ3Z",
    "jupyter": {
     "outputs_hidden": false
    },
    "outputId": "b8bdecc6-b4c3-41af-8426-97e206d6773a",
    "run_control": {
     "frozen": false,
     "read_only": false
    }
   },
   "outputs": [],
   "source": [
    "sum_numbers(1, 2)"
   ]
  },
  {
   "cell_type": "code",
   "execution_count": null,
   "metadata": {
    "colab": {},
    "colab_type": "code",
    "collapsed": false,
    "id": "e8lJfGueuZ3c",
    "jupyter": {
     "outputs_hidden": false
    },
    "run_control": {
     "frozen": false,
     "read_only": false
    }
   },
   "outputs": [],
   "source": [
    "sum_numbers('one', 'two')"
   ]
  },
  {
   "cell_type": "code",
   "execution_count": null,
   "metadata": {
    "colab": {},
    "colab_type": "code",
    "collapsed": false,
    "id": "IE-pEGbluZ3h",
    "jupyter": {
     "outputs_hidden": false
    },
    "run_control": {
     "frozen": false,
     "read_only": false
    }
   },
   "outputs": [],
   "source": [
    "sum_numbers('one', 2)"
   ]
  },
  {
   "cell_type": "code",
   "execution_count": null,
   "metadata": {
    "colab": {},
    "colab_type": "code",
    "collapsed": false,
    "id": "93YWbRXguZ3n",
    "jupyter": {
     "outputs_hidden": false
    },
    "run_control": {
     "frozen": false,
     "read_only": false
    }
   },
   "outputs": [],
   "source": [
    "# positional arguments (args)\n",
    "def print_variables(first, second):\n",
    "    print(f'First variable: {first}')\n",
    "    print(f'Second variable: {second}')\n",
    "  "
   ]
  },
  {
   "cell_type": "code",
   "execution_count": null,
   "metadata": {
    "colab": {},
    "colab_type": "code",
    "collapsed": false,
    "id": "PmtMbWBhuZ3q",
    "jupyter": {
     "outputs_hidden": false
    },
    "run_control": {
     "frozen": false,
     "read_only": false
    }
   },
   "outputs": [],
   "source": [
    "print_variables(1, 2)"
   ]
  },
  {
   "cell_type": "code",
   "execution_count": null,
   "metadata": {
    "colab": {},
    "colab_type": "code",
    "collapsed": false,
    "id": "Qo1OzySduZ3t",
    "jupyter": {
     "outputs_hidden": false
    },
    "run_control": {
     "frozen": false,
     "read_only": false
    }
   },
   "outputs": [],
   "source": [
    "print_variables()"
   ]
  },
  {
   "cell_type": "code",
   "execution_count": null,
   "metadata": {
    "colab": {},
    "colab_type": "code",
    "collapsed": false,
    "id": "vcrfADhwuZ3v",
    "jupyter": {
     "outputs_hidden": false
    },
    "run_control": {
     "frozen": false,
     "read_only": false
    }
   },
   "outputs": [],
   "source": [
    "print_variables(1)"
   ]
  },
  {
   "cell_type": "code",
   "execution_count": null,
   "metadata": {
    "colab": {},
    "colab_type": "code",
    "collapsed": false,
    "id": "OCnYGyNwuZ3y",
    "jupyter": {
     "outputs_hidden": false
    },
    "run_control": {
     "frozen": false,
     "read_only": false
    }
   },
   "outputs": [],
   "source": [
    "# keyword arguments (kwargs)\n",
    "def print_variables(first=None, second=None):\n",
    "    print(f'First variable: {first}')\n",
    "    print(f'Second variable: {second}')\n"
   ]
  },
  {
   "cell_type": "code",
   "execution_count": null,
   "metadata": {
    "colab": {},
    "colab_type": "code",
    "collapsed": false,
    "id": "HffrHSwjuZ31",
    "jupyter": {
     "outputs_hidden": false
    },
    "run_control": {
     "frozen": false,
     "read_only": false
    }
   },
   "outputs": [],
   "source": [
    "print_variables()"
   ]
  },
  {
   "cell_type": "code",
   "execution_count": null,
   "metadata": {
    "colab": {},
    "colab_type": "code",
    "collapsed": false,
    "id": "3KiVV0AfuZ33",
    "jupyter": {
     "outputs_hidden": false
    },
    "run_control": {
     "frozen": false,
     "read_only": false
    }
   },
   "outputs": [],
   "source": [
    "print_variables(second=2)"
   ]
  },
  {
   "cell_type": "markdown",
   "metadata": {
    "colab_type": "text",
    "id": "V4gsn1yiuZ2M"
   },
   "source": [
    "Flow control operators\n",
    "------"
   ]
  },
  {
   "cell_type": "code",
   "execution_count": null,
   "metadata": {
    "colab": {},
    "colab_type": "code",
    "collapsed": false,
    "id": "iAFefIkauZ2N",
    "jupyter": {
     "outputs_hidden": false
    },
    "run_control": {
     "frozen": false,
     "read_only": false
    }
   },
   "outputs": [],
   "source": [
    "# if/elif/else\n",
    "animals = ['dog', 'cat', 'cow']\n",
    "if 'cats' in animals:\n",
    "    print('Cats found!')\n",
    "elif 'cat' in animals:\n",
    "    print('Only one cat found!')\n",
    "else:\n",
    "    print('Nothing found!')"
   ]
  },
  {
   "cell_type": "code",
   "execution_count": null,
   "metadata": {
    "colab": {
     "base_uri": "https://localhost:8080/",
     "height": 68
    },
    "colab_type": "code",
    "collapsed": false,
    "executionInfo": {
     "elapsed": 406,
     "status": "ok",
     "timestamp": 1586985508261,
     "user": {
      "displayName": "Giulio Chiesa",
      "photoUrl": "https://lh3.googleusercontent.com/a-/AOh14GhTac43NP5I-bvSTBnu8F6fSvW7zZ-hiaOhXGI7bw=s64",
      "userId": "10704203183164546918"
     },
     "user_tz": 240
    },
    "id": "1U8KV_xDuZ2Q",
    "jupyter": {
     "outputs_hidden": false
    },
    "outputId": "3963e55f-be31-4651-a93d-2eeeec49c397",
    "run_control": {
     "frozen": false,
     "read_only": false
    }
   },
   "outputs": [],
   "source": [
    "# for loop\n",
    "foods = ['pasta', 'rice', 'lasagna']\n",
    "for food in foods:\n",
    "    print(food)"
   ]
  },
  {
   "cell_type": "code",
   "execution_count": null,
   "metadata": {
    "colab": {
     "base_uri": "https://localhost:8080/",
     "height": 119
    },
    "colab_type": "code",
    "collapsed": false,
    "executionInfo": {
     "elapsed": 369,
     "status": "ok",
     "timestamp": 1586985495651,
     "user": {
      "displayName": "Giulio Chiesa",
      "photoUrl": "https://lh3.googleusercontent.com/a-/AOh14GhTac43NP5I-bvSTBnu8F6fSvW7zZ-hiaOhXGI7bw=s64",
      "userId": "10704203183164546918"
     },
     "user_tz": 240
    },
    "id": "QAU5pZ_xuZ2T",
    "jupyter": {
     "outputs_hidden": false
    },
    "outputId": "7c96b178-3edc-45cf-af45-89a2ff805bab",
    "run_control": {
     "frozen": false,
     "read_only": false
    }
   },
   "outputs": [],
   "source": [
    "# nested for loops\n",
    "foods = ['pasta', 'rice', 'lasagna']\n",
    "deserts = ['cake', 'biscuit']\n",
    "for food in foods:\n",
    "    for desert in deserts:\n",
    "        print(food, desert)"
   ]
  },
  {
   "cell_type": "code",
   "execution_count": null,
   "metadata": {
    "colab": {
     "base_uri": "https://localhost:8080/",
     "height": 34
    },
    "colab_type": "code",
    "collapsed": false,
    "executionInfo": {
     "elapsed": 460,
     "status": "ok",
     "timestamp": 1587048947383,
     "user": {
      "displayName": "Giulio Chiesa",
      "photoUrl": "https://lh3.googleusercontent.com/a-/AOh14GhTac43NP5I-bvSTBnu8F6fSvW7zZ-hiaOhXGI7bw=s64",
      "userId": "10704203183164546918"
     },
     "user_tz": 240
    },
    "id": "wn7Kop_xuZ2m",
    "jupyter": {
     "outputs_hidden": false
    },
    "outputId": "d2995886-28a2-4ff2-c45d-7728b073129d",
    "run_control": {
     "frozen": false,
     "read_only": false
    }
   },
   "outputs": [],
   "source": [
    "# while loop\n",
    "counter = 0\n",
    "while counter < 10:\n",
    "    counter += 1\n",
    "    print(counter)\n",
    "counter"
   ]
  },
  {
   "cell_type": "code",
   "execution_count": null,
   "metadata": {
    "colab": {
     "base_uri": "https://localhost:8080/",
     "height": 187
    },
    "colab_type": "code",
    "collapsed": false,
    "executionInfo": {
     "elapsed": 635,
     "status": "ok",
     "timestamp": 1586986537649,
     "user": {
      "displayName": "Giulio Chiesa",
      "photoUrl": "https://lh3.googleusercontent.com/a-/AOh14GhTac43NP5I-bvSTBnu8F6fSvW7zZ-hiaOhXGI7bw=s64",
      "userId": "10704203183164546918"
     },
     "user_tz": 240
    },
    "id": "37-QdWswuZ2p",
    "jupyter": {
     "outputs_hidden": false
    },
    "outputId": "e1b88f7c-2a50-4716-9589-45b1fa9439e8",
    "run_control": {
     "frozen": false,
     "read_only": false
    }
   },
   "outputs": [],
   "source": [
    "# A normal loop\n",
    "for value in range(10):\n",
    "    print(value)"
   ]
  },
  {
   "cell_type": "code",
   "execution_count": null,
   "metadata": {
    "colab": {
     "base_uri": "https://localhost:8080/",
     "height": 119
    },
    "colab_type": "code",
    "collapsed": false,
    "executionInfo": {
     "elapsed": 448,
     "status": "ok",
     "timestamp": 1587044829967,
     "user": {
      "displayName": "Giulio Chiesa",
      "photoUrl": "https://lh3.googleusercontent.com/a-/AOh14GhTac43NP5I-bvSTBnu8F6fSvW7zZ-hiaOhXGI7bw=s64",
      "userId": "10704203183164546918"
     },
     "user_tz": 240
    },
    "id": "Sslx7drquZ2s",
    "jupyter": {
     "outputs_hidden": false
    },
    "outputId": "894fec3a-ab28-41e2-c0ad-7d0ee2bbfcd8",
    "run_control": {
     "frozen": false,
     "read_only": false
    }
   },
   "outputs": [],
   "source": [
    "# continue: skip the rest of the expression and go to the next element\n",
    "for value in range(10):\n",
    "    if not value == 3:\n",
    "        continue\n",
    "    print(value)"
   ]
  },
  {
   "cell_type": "code",
   "execution_count": null,
   "metadata": {
    "colab": {},
    "colab_type": "code",
    "collapsed": false,
    "id": "XA3rFbDVuZ2w",
    "jupyter": {
     "outputs_hidden": false
    },
    "run_control": {
     "frozen": false,
     "read_only": false
    }
   },
   "outputs": [],
   "source": [
    "# break: exit the \"for\" loop\n",
    "for value in range(10):\n",
    "    if not value == 3:\n",
    "        break\n",
    "    print(value)"
   ]
  },
  {
   "cell_type": "code",
   "execution_count": null,
   "metadata": {
    "colab": {},
    "colab_type": "code",
    "collapsed": false,
    "id": "ELElsItiuZ26",
    "jupyter": {
     "outputs_hidden": false
    },
    "run_control": {
     "frozen": false,
     "read_only": false
    }
   },
   "outputs": [],
   "source": [
    "# break and continue will only exit from the innermost loop\n",
    "foods = ['pasta', 'rice', 'lasagna']\n",
    "deserts = ['cake', 'biscuit']\n",
    "for food in foods:\n",
    "    for desert in deserts:\n",
    "        if food == 'rice':\n",
    "            continue\n",
    "        print(food, desert)"
   ]
  },
  {
   "cell_type": "code",
   "execution_count": null,
   "metadata": {
    "colab": {},
    "colab_type": "code",
    "collapsed": false,
    "id": "FAMfbClouZ29",
    "jupyter": {
     "outputs_hidden": false
    },
    "run_control": {
     "frozen": false,
     "read_only": false
    }
   },
   "outputs": [],
   "source": [
    "# break and continue will only exit from the innermost loop\n",
    "foods = ['pasta', 'rice', 'lasagna']\n",
    "deserts = ['cake', 'biscuit']\n",
    "for food in foods:\n",
    "    for desert in deserts:\n",
    "        if desert == 'biscuit':\n",
    "            break\n",
    "        print(food, desert)"
   ]
  },
  {
   "cell_type": "markdown",
   "metadata": {},
   "source": [
    "---\n"
   ]
  },
  {
   "cell_type": "markdown",
   "metadata": {},
   "source": [
    "Exercises\n",
    "---------"
   ]
  },
  {
   "cell_type": "markdown",
   "metadata": {},
   "source": [
    "Iterate over the integers from 0 to 100, printing only those divisible by 7"
   ]
  },
  {
   "cell_type": "code",
   "execution_count": null,
   "metadata": {},
   "outputs": [],
   "source": []
  },
  {
   "cell_type": "markdown",
   "metadata": {
    "colab_type": "text",
    "id": "cJldKrqoFxy_"
   },
   "source": [
    "Define a function `max_2()` that takes two numbers as arguments and returns the largest."
   ]
  },
  {
   "cell_type": "code",
   "execution_count": null,
   "metadata": {
    "colab": {},
    "colab_type": "code",
    "collapsed": false,
    "id": "NXPXg3CMFxzE",
    "jupyter": {
     "outputs_hidden": false
    },
    "run_control": {
     "frozen": false,
     "read_only": false
    }
   },
   "outputs": [],
   "source": []
  },
  {
   "cell_type": "markdown",
   "metadata": {
    "colab_type": "text",
    "id": "CbMORuGjFx1R"
   },
   "source": [
    "Write a function `find_longest_word()` that takes a list of words and returns the length of the longest one"
   ]
  },
  {
   "cell_type": "code",
   "execution_count": null,
   "metadata": {
    "colab": {
     "base_uri": "https://localhost:8080/",
     "height": 131
    },
    "colab_type": "code",
    "collapsed": false,
    "executionInfo": {
     "elapsed": 999,
     "status": "error",
     "timestamp": 1587065643847,
     "user": {
      "displayName": "HUISHAN LI",
      "photoUrl": "https://lh3.googleusercontent.com/a-/AOh14GhbgR7ZEQdBb5dhquBIm_UrjFtb8EJtjCZEoODf=s64",
      "userId": "11359969430322887920"
     },
     "user_tz": 240
    },
    "id": "qlA1MCL_Fx1S",
    "jupyter": {
     "outputs_hidden": false
    },
    "outputId": "725bc45b-ba67-4c0f-efb7-751ef5b7e688"
   },
   "outputs": [],
   "source": []
  }
 ],
 "metadata": {
  "colab": {
   "name": "1-Basic_python_and_native_python_data_structures.ipynb",
   "provenance": []
  },
  "kernelspec": {
   "display_name": "Python 3",
   "language": "python",
   "name": "python3"
  },
  "language_info": {
   "codemirror_mode": {
    "name": "ipython",
    "version": 3
   },
   "file_extension": ".py",
   "mimetype": "text/x-python",
   "name": "python",
   "nbconvert_exporter": "python",
   "pygments_lexer": "ipython3",
   "version": "3.8.10"
  }
 },
 "nbformat": 4,
 "nbformat_minor": 4
}
