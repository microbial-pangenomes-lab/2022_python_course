{
 "cells": [
  {
   "cell_type": "markdown",
   "metadata": {
    "colab_type": "text",
    "id": "_XD_wsn6xlTl"
   },
   "source": [
    "# Lesson 2: Intro to Pandas - 1\n",
    "\n",
    "### Summary\n",
    "* Flexible, and expressive data structures **Series** (1D) and **DataFrame** (2D)\n",
    "* High-level building block for doing **practical, real world data analysis**\n",
    "* **Nearly as fast as C language** = Build on top of Numpy and extensive use of Cython\n",
    "* **Robust IO tools** for loading and parsing data from text files, excel files and databases.\n",
    "\n",
    "### Additional Resources\n",
    "\n",
    "*   Getting Started Guide: https://pandas.pydata.org/pandas-docs/stable/getting_started/index.html\n",
    "*   Complete User-Guide: https://pandas.pydata.org/pandas-docs/stable/user_guide/index.html#user-guide\n",
    "*   Geeks for Geeks: https://www.geeksforgeeks.org/pandas-tutorial/\n",
    "\n",
    "\n",
    "\n",
    "---\n",
    "---\n",
    "\n",
    "\n",
    "\n"
   ]
  },
  {
   "cell_type": "markdown",
   "metadata": {
    "colab_type": "text",
    "id": "T50gPrMGpOvO"
   },
   "source": [
    "# Imports\n",
    "\n",
    "**Importing the packages you need on the top of your script/notebook is good programming practice** "
   ]
  },
  {
   "cell_type": "code",
   "execution_count": null,
   "metadata": {
    "ExecuteTime": {
     "end_time": "2017-09-18T15:07:47.669879",
     "start_time": "2017-09-18T15:07:47.371958Z"
    },
    "colab": {},
    "colab_type": "code",
    "id": "qoHXBqWxpOvl",
    "init_cell": true,
    "run_control": {
     "frozen": false,
     "read_only": false
    }
   },
   "outputs": [],
   "source": [
    "# Import the packages that will be usefull for this lesson\n",
    "import pandas as pd\n",
    "import numpy as np"
   ]
  },
  {
   "cell_type": "markdown",
   "metadata": {
    "colab_type": "text",
    "id": "YXba5aUWkjZ2"
   },
   "source": [
    "---"
   ]
  },
  {
   "cell_type": "markdown",
   "metadata": {
    "colab_type": "text",
    "id": "ZWCuCc4vROju"
   },
   "source": [
    "# pandas Objects\n",
    "Typically, DataFrames and Series objects are created by loading in data from a CSV or excel file (subsequent section). But sometimes you might find it useful to create an object within your script."
   ]
  },
  {
   "cell_type": "markdown",
   "metadata": {
    "colab_type": "text",
    "id": "CI-UTzd2R1Tj"
   },
   "source": [
    "## Pandas Series\n",
    "*   1-D array\n",
    "*   Can contain data of any type (integer, string, float, python objects, etc.)\n",
    "*   axis labels (*i.e.* row names) are called the index\n",
    "\n",
    "**TL;DR a Series is a column in an excel sheet**\n",
    "\n",
    "### Creating Pandas Series\n",
    "\n",
    "**From a List(s)**\n",
    "\n",
    "\n",
    "\n"
   ]
  },
  {
   "cell_type": "code",
   "execution_count": null,
   "metadata": {
    "colab": {
     "base_uri": "https://localhost:8080/",
     "height": 119
    },
    "colab_type": "code",
    "executionInfo": {
     "elapsed": 405,
     "status": "ok",
     "timestamp": 1587737850781,
     "user": {
      "displayName": "Emma Briars",
      "photoUrl": "https://lh3.googleusercontent.com/a-/AOh14Gj14uLObWQe3mbLX6o5aXvFBch63XWb_GUOD_jG=s64",
      "userId": "10583257419353631243"
     },
     "user_tz": 240
    },
    "id": "fXjMp0NgeJPN",
    "outputId": "fd7d18cf-d8f1-43c7-8ec1-a3b56ab12d6d"
   },
   "outputs": [],
   "source": [
    "Base = ('A','T','C','G','N')\n",
    "Freq = (0.21, 0.24, 0.27, 0.25, 0.03)\n",
    "bases = pd.Series(data=Freq, index=Base)\n",
    "bases"
   ]
  },
  {
   "cell_type": "markdown",
   "metadata": {
    "colab_type": "text",
    "id": "-kWmVpaeeM0n"
   },
   "source": [
    "**From a Dictionary**"
   ]
  },
  {
   "cell_type": "code",
   "execution_count": null,
   "metadata": {
    "colab": {
     "base_uri": "https://localhost:8080/",
     "height": 119
    },
    "colab_type": "code",
    "executionInfo": {
     "elapsed": 403,
     "status": "ok",
     "timestamp": 1587737926970,
     "user": {
      "displayName": "Emma Briars",
      "photoUrl": "https://lh3.googleusercontent.com/a-/AOh14Gj14uLObWQe3mbLX6o5aXvFBch63XWb_GUOD_jG=s64",
      "userId": "10583257419353631243"
     },
     "user_tz": 240
    },
    "id": "GgQ7NZmEcuqY",
    "outputId": "68f0e9ac-c4e2-4610-8b7c-60df808ecd3c"
   },
   "outputs": [],
   "source": [
    "d = {'A':0.21, 'T':0.24, 'C':0.27, 'G':0.25, 'N':0.03}\n",
    "bases_2 = pd.Series(d)\n",
    "bases_2"
   ]
  },
  {
   "cell_type": "markdown",
   "metadata": {
    "colab_type": "text",
    "id": "ojGccYivUpfh"
   },
   "source": [
    "## Pandas DataFrames\n",
    "*   2D tabular data \n",
    "*   labeled axes (rows and columns)\n",
    "*   size-mutable (can add/remove data)\n",
    "*   potentially heterogeneous data types\n",
    "\n",
    "### Creating Pandas DataFrames\n",
    "**From a pandas Series**"
   ]
  },
  {
   "cell_type": "code",
   "execution_count": null,
   "metadata": {
    "colab": {
     "base_uri": "https://localhost:8080/",
     "height": 204
    },
    "colab_type": "code",
    "executionInfo": {
     "elapsed": 518,
     "status": "ok",
     "timestamp": 1587737954911,
     "user": {
      "displayName": "Emma Briars",
      "photoUrl": "https://lh3.googleusercontent.com/a-/AOh14Gj14uLObWQe3mbLX6o5aXvFBch63XWb_GUOD_jG=s64",
      "userId": "10583257419353631243"
     },
     "user_tz": 240
    },
    "id": "mnlV6aSSf1YR",
    "outputId": "48973e05-9db5-4400-c985-59072d03013e"
   },
   "outputs": [],
   "source": [
    "d = {'A':0.21, 'T':0.24, 'C':0.27, 'G':0.25, 'N':0.03}\n",
    "bases_2 = pd.Series(d)\n",
    "pd.DataFrame(bases_2, columns=[\"Percent\"])"
   ]
  },
  {
   "cell_type": "markdown",
   "metadata": {
    "colab_type": "text",
    "id": "fO-o4fsFf35D"
   },
   "source": [
    "**From a Dictionary**"
   ]
  },
  {
   "cell_type": "code",
   "execution_count": null,
   "metadata": {
    "colab": {
     "base_uri": "https://localhost:8080/",
     "height": 173
    },
    "colab_type": "code",
    "executionInfo": {
     "elapsed": 517,
     "status": "ok",
     "timestamp": 1587738009909,
     "user": {
      "displayName": "Emma Briars",
      "photoUrl": "https://lh3.googleusercontent.com/a-/AOh14Gj14uLObWQe3mbLX6o5aXvFBch63XWb_GUOD_jG=s64",
      "userId": "10583257419353631243"
     },
     "user_tz": 240
    },
    "id": "rMjtouLPcmOK",
    "outputId": "905458d6-e40d-42f3-b528-3efd6ff32d43"
   },
   "outputs": [],
   "source": [
    "d = {'Protein':['YFP', 'GFP', 'RFP', 'BFP'],\n",
    "     'Ex':[514, 488, 555, 383],\n",
    "     'Em':[527, 510, 584, 445]}\n",
    "df = pd.DataFrame(d) \n",
    "df"
   ]
  },
  {
   "cell_type": "markdown",
   "metadata": {
    "colab_type": "text",
    "id": "Ym2pkCHpfMRP"
   },
   "source": [
    "---"
   ]
  },
  {
   "cell_type": "markdown",
   "metadata": {
    "colab_type": "text",
    "id": "KkpCA2MgoDv3"
   },
   "source": [
    "# Loading Data"
   ]
  },
  {
   "cell_type": "markdown",
   "metadata": {
    "colab_type": "text",
    "id": "M4GXygU-oRG0"
   },
   "source": [
    "### Lesson 1 Recap\n",
    "Last time, we learned about loading a text file for reading and writing.\n",
    "\n",
    "```\n",
    "f = open('mysequence.fasta', 'r')\n",
    "new_file = open('thesis.txt', 'w')\n",
    "```\n",
    "\n",
    "This is useful for text-based data, such as FASTA files or text documents.\n",
    "\n",
    "But what about **tabular data**, such as data from your flow experiment, or time-course data from the plate-reader?\n"
   ]
  },
  {
   "cell_type": "markdown",
   "metadata": {
    "colab_type": "text",
    "id": "otmrx772ozbH"
   },
   "source": [
    "### Using Pandas to Load Data\n",
    "There are many methods to use pandas to load data. You can choose which method to use based off of your file-type, and can adjust the parameters accordingly.\n",
    "\n",
    "**Load from a .csv file using `pd.read_csv()`**\n",
    "```\n",
    "# Comma-delimited text\n",
    "data = pd.read_csv('new_data.csv')\n",
    "\n",
    "# Tab-delimited text\n",
    "data = pd.read_csv('newer_data.txt', sep='\\t')\n",
    "\n",
    "# From a URL\n",
    "data = pd.read_csv('https://raw.githubusercontent.com/FBosler/you-datascientist/master/happiness_with_continent.csv')\n",
    "```\n",
    "\n",
    "**Load from a .xls/.xlsx file using `pd.read_excel()`**\n",
    "```\n",
    "data = pd.read_excel('thesis_data.xlsx')\n",
    "```\n",
    "\n",
    "#### Useful Parameters for Loading Data\n",
    "\n",
    "\n",
    "*   **sep**: separator for the columns (*e.g.* ',' or '\\t')\n",
    "*   **header**: row that contains the column headers (*e.g.* 'None', 2 (third row, skip everything above it)\n",
    "*   **index_col**: which column should be the index (row names)\n"
   ]
  },
  {
   "cell_type": "code",
   "execution_count": null,
   "metadata": {
    "colab": {},
    "colab_type": "code",
    "id": "WaKJMWdVJnSn"
   },
   "outputs": [],
   "source": [
    "## Example: Loading Data \n",
    "infile = '../data/ecoli.txt'\n",
    "data = pd.read_csv(infile, sep='\\t')"
   ]
  },
  {
   "cell_type": "code",
   "execution_count": null,
   "metadata": {},
   "outputs": [],
   "source": [
    "data"
   ]
  },
  {
   "cell_type": "markdown",
   "metadata": {
    "colab_type": "text",
    "id": "kwTYWhwVoIzS"
   },
   "source": [
    "---"
   ]
  },
  {
   "cell_type": "markdown",
   "metadata": {
    "colab_type": "text",
    "id": "pkPAiUsRN8RE"
   },
   "source": [
    "# Inspecting & Describing Data"
   ]
  },
  {
   "cell_type": "markdown",
   "metadata": {
    "colab_type": "text",
    "id": "iMfD4TqHOEAC"
   },
   "source": [
    "Once data has been created/loaded using pandas, it is useful to 'look' at the data and ensure that it has been initialized properly. Rather than look at the entire data table, you can use simple functions to take a peak at the top, bottom, or random mix of the table.\n",
    "\n",
    "### Functions to View Data\n",
    "\n",
    "*   `data.head()`: display first n rows\n",
    "*   `data.tail()`: display last n rows\n",
    "*   `data.sample()`: display n random rows\n",
    "\n"
   ]
  },
  {
   "cell_type": "code",
   "execution_count": null,
   "metadata": {},
   "outputs": [],
   "source": [
    "## Example: Viewing Data\n",
    "# Display the first 5 rows\n",
    "data.head()"
   ]
  },
  {
   "cell_type": "code",
   "execution_count": null,
   "metadata": {},
   "outputs": [],
   "source": [
    "# Display the last 10 rows\n",
    "data.tail(10)"
   ]
  },
  {
   "cell_type": "code",
   "execution_count": null,
   "metadata": {
    "colab": {
     "base_uri": "https://localhost:8080/",
     "height": 306
    },
    "colab_type": "code",
    "executionInfo": {
     "elapsed": 442,
     "status": "ok",
     "timestamp": 1587738446674,
     "user": {
      "displayName": "Emma Briars",
      "photoUrl": "https://lh3.googleusercontent.com/a-/AOh14Gj14uLObWQe3mbLX6o5aXvFBch63XWb_GUOD_jG=s64",
      "userId": "10583257419353631243"
     },
     "user_tz": 240
    },
    "id": "qrbUhTkOPcY8",
    "outputId": "d2f8a761-b1f2-4451-f341-78b9354be0f2"
   },
   "outputs": [],
   "source": [
    "# Display a random sampling of 7 rows\n",
    "data.sample(7)"
   ]
  },
  {
   "cell_type": "code",
   "execution_count": null,
   "metadata": {
    "colab": {},
    "colab_type": "code",
    "id": "twCa7spWjb6R"
   },
   "outputs": [],
   "source": [
    "## Example: Loading & Viewing Data #2\n",
    "## After viewing the table, we realize we want to use \"GeneID\" as the rownames instead of numbers\n",
    "new_data = pd.read_csv(infile, sep='\\t', index_col='GeneID')\n",
    "new_data.head()"
   ]
  },
  {
   "cell_type": "markdown",
   "metadata": {
    "colab_type": "text",
    "id": "V_HsX1AtQJAO"
   },
   "source": [
    "## Functions to Describe Data\n",
    "\n",
    "*   `data.shape`: dimensions of data (# rows, # columns) *This is not actually a function, but a property, so do not use '()'\n",
    "*   `data.info()`: data types of each column\n",
    "*   `data.describe()`: statistical information about the numerical columns\n",
    "\n"
   ]
  },
  {
   "cell_type": "code",
   "execution_count": null,
   "metadata": {},
   "outputs": [],
   "source": [
    "## Example: Describing Data\n",
    "data.shape"
   ]
  },
  {
   "cell_type": "code",
   "execution_count": null,
   "metadata": {},
   "outputs": [],
   "source": [
    "data.info()"
   ]
  },
  {
   "cell_type": "code",
   "execution_count": null,
   "metadata": {
    "colab": {
     "base_uri": "https://localhost:8080/",
     "height": 297
    },
    "colab_type": "code",
    "executionInfo": {
     "elapsed": 668,
     "status": "ok",
     "timestamp": 1587738619525,
     "user": {
      "displayName": "Emma Briars",
      "photoUrl": "https://lh3.googleusercontent.com/a-/AOh14Gj14uLObWQe3mbLX6o5aXvFBch63XWb_GUOD_jG=s64",
      "userId": "10583257419353631243"
     },
     "user_tz": 240
    },
    "id": "vbshBN99RnZN",
    "outputId": "5b4c3003-6a89-49c3-a469-d37b5eab0154"
   },
   "outputs": [],
   "source": [
    "data.describe()"
   ]
  },
  {
   "cell_type": "markdown",
   "metadata": {},
   "source": [
    "---\n"
   ]
  },
  {
   "cell_type": "markdown",
   "metadata": {},
   "source": [
    "Exercises\n",
    "---------"
   ]
  },
  {
   "cell_type": "markdown",
   "metadata": {},
   "source": [
    "Load a dataframe from this file hosted online: https://evocellnet.github.io/ecoref/data/phenotypic_data.tsv\n",
    "\n",
    "**Hint:** the file extension might indicate which field separator to expect"
   ]
  },
  {
   "cell_type": "code",
   "execution_count": null,
   "metadata": {},
   "outputs": [],
   "source": []
  },
  {
   "cell_type": "markdown",
   "metadata": {},
   "source": [
    "How big is the dataframe? How many rows and columns are there?"
   ]
  },
  {
   "cell_type": "code",
   "execution_count": null,
   "metadata": {},
   "outputs": [],
   "source": []
  },
  {
   "cell_type": "markdown",
   "metadata": {},
   "source": [
    "How many non-null rows are there for each column? What is the type of each column?"
   ]
  },
  {
   "cell_type": "code",
   "execution_count": null,
   "metadata": {},
   "outputs": [],
   "source": []
  },
  {
   "cell_type": "markdown",
   "metadata": {},
   "source": [
    "What is the mean value for the `s-scores` column?"
   ]
  },
  {
   "cell_type": "code",
   "execution_count": null,
   "metadata": {},
   "outputs": [],
   "source": []
  },
  {
   "cell_type": "code",
   "execution_count": 11,
   "metadata": {},
   "outputs": [
    {
     "data": {
      "text/plain": [
       "Index(['condition', 'strain', 's-scores', 'corrected-p-values',\n",
       "       'growth-defect-phenotype'],\n",
       "      dtype='object')"
      ]
     },
     "execution_count": 11,
     "metadata": {},
     "output_type": "execute_result"
    }
   ],
   "source": [
    "df.columns"
   ]
  },
  {
   "cell_type": "code",
   "execution_count": 15,
   "metadata": {},
   "outputs": [
    {
     "data": {
      "text/html": [
       "<div>\n",
       "<style scoped>\n",
       "    .dataframe tbody tr th:only-of-type {\n",
       "        vertical-align: middle;\n",
       "    }\n",
       "\n",
       "    .dataframe tbody tr th {\n",
       "        vertical-align: top;\n",
       "    }\n",
       "\n",
       "    .dataframe thead th {\n",
       "        text-align: right;\n",
       "    }\n",
       "</style>\n",
       "<table border=\"1\" class=\"dataframe\">\n",
       "  <thead>\n",
       "    <tr style=\"text-align: right;\">\n",
       "      <th>condition</th>\n",
       "      <th>A22.0P5</th>\n",
       "      <th>A22.0P5UM</th>\n",
       "      <th>A22.1</th>\n",
       "      <th>A22.1UM</th>\n",
       "      <th>A22.2</th>\n",
       "      <th>A22.2P5UM</th>\n",
       "      <th>A22.5UM</th>\n",
       "      <th>A22.CCCP</th>\n",
       "      <th>A22.CEFSULODIN</th>\n",
       "      <th>A22.CEPHALEXIN</th>\n",
       "      <th>...</th>\n",
       "      <th>TRIMETHOPRIM.A22</th>\n",
       "      <th>TRIMETHOPRIM.CEPHALEXIN</th>\n",
       "      <th>TRIMETHOPRIM.CHLORAMPHENICOL</th>\n",
       "      <th>TRIMETHOPRIM.FOSFOMYCIN</th>\n",
       "      <th>TRIMETHOPRIM.IMIPENEM</th>\n",
       "      <th>TRIMETHOPRIM.PYOCYANIN</th>\n",
       "      <th>TYLOSIN.50</th>\n",
       "      <th>UREA.50MM</th>\n",
       "      <th>VANCOMYCIN.40</th>\n",
       "      <th>VANILLIN.200</th>\n",
       "    </tr>\n",
       "    <tr>\n",
       "      <th>strain</th>\n",
       "      <th></th>\n",
       "      <th></th>\n",
       "      <th></th>\n",
       "      <th></th>\n",
       "      <th></th>\n",
       "      <th></th>\n",
       "      <th></th>\n",
       "      <th></th>\n",
       "      <th></th>\n",
       "      <th></th>\n",
       "      <th></th>\n",
       "      <th></th>\n",
       "      <th></th>\n",
       "      <th></th>\n",
       "      <th></th>\n",
       "      <th></th>\n",
       "      <th></th>\n",
       "      <th></th>\n",
       "      <th></th>\n",
       "      <th></th>\n",
       "      <th></th>\n",
       "    </tr>\n",
       "  </thead>\n",
       "  <tbody>\n",
       "    <tr>\n",
       "      <th>ATC14028</th>\n",
       "      <td>0.461853</td>\n",
       "      <td>NaN</td>\n",
       "      <td>NaN</td>\n",
       "      <td>-0.855892</td>\n",
       "      <td>NaN</td>\n",
       "      <td>0.648539</td>\n",
       "      <td>0.320179</td>\n",
       "      <td>0.416647</td>\n",
       "      <td>0.240657</td>\n",
       "      <td>-0.198294</td>\n",
       "      <td>...</td>\n",
       "      <td>NaN</td>\n",
       "      <td>NaN</td>\n",
       "      <td>NaN</td>\n",
       "      <td>NaN</td>\n",
       "      <td>NaN</td>\n",
       "      <td>NaN</td>\n",
       "      <td>NaN</td>\n",
       "      <td>-1.690149</td>\n",
       "      <td>NaN</td>\n",
       "      <td>NaN</td>\n",
       "    </tr>\n",
       "    <tr>\n",
       "      <th>LT2</th>\n",
       "      <td>0.634869</td>\n",
       "      <td>NaN</td>\n",
       "      <td>NaN</td>\n",
       "      <td>0.129073</td>\n",
       "      <td>NaN</td>\n",
       "      <td>0.267326</td>\n",
       "      <td>0.455675</td>\n",
       "      <td>1.804888</td>\n",
       "      <td>1.069904</td>\n",
       "      <td>0.387530</td>\n",
       "      <td>...</td>\n",
       "      <td>NaN</td>\n",
       "      <td>NaN</td>\n",
       "      <td>NaN</td>\n",
       "      <td>NaN</td>\n",
       "      <td>NaN</td>\n",
       "      <td>NaN</td>\n",
       "      <td>NaN</td>\n",
       "      <td>-0.385880</td>\n",
       "      <td>NaN</td>\n",
       "      <td>NaN</td>\n",
       "    </tr>\n",
       "    <tr>\n",
       "      <th>NT12001</th>\n",
       "      <td>0.973035</td>\n",
       "      <td>-1.556593</td>\n",
       "      <td>-0.746300</td>\n",
       "      <td>-1.197644</td>\n",
       "      <td>-0.580609</td>\n",
       "      <td>-0.409577</td>\n",
       "      <td>NaN</td>\n",
       "      <td>-0.794547</td>\n",
       "      <td>0.094425</td>\n",
       "      <td>0.183347</td>\n",
       "      <td>...</td>\n",
       "      <td>-1.072894</td>\n",
       "      <td>-0.630742</td>\n",
       "      <td>-0.714179</td>\n",
       "      <td>-0.643048</td>\n",
       "      <td>-0.007615</td>\n",
       "      <td>0.020477</td>\n",
       "      <td>0.586603</td>\n",
       "      <td>0.534589</td>\n",
       "      <td>-0.799052</td>\n",
       "      <td>0.700619</td>\n",
       "    </tr>\n",
       "    <tr>\n",
       "      <th>NT12002</th>\n",
       "      <td>0.993044</td>\n",
       "      <td>-0.915693</td>\n",
       "      <td>-0.889290</td>\n",
       "      <td>-1.469211</td>\n",
       "      <td>0.538173</td>\n",
       "      <td>0.707219</td>\n",
       "      <td>NaN</td>\n",
       "      <td>0.380621</td>\n",
       "      <td>0.634499</td>\n",
       "      <td>1.311746</td>\n",
       "      <td>...</td>\n",
       "      <td>-0.556301</td>\n",
       "      <td>-0.181908</td>\n",
       "      <td>-0.171593</td>\n",
       "      <td>-0.637145</td>\n",
       "      <td>-0.571075</td>\n",
       "      <td>0.044591</td>\n",
       "      <td>0.785431</td>\n",
       "      <td>2.091638</td>\n",
       "      <td>-0.810707</td>\n",
       "      <td>0.630754</td>\n",
       "    </tr>\n",
       "    <tr>\n",
       "      <th>NT12003</th>\n",
       "      <td>-0.043496</td>\n",
       "      <td>0.032552</td>\n",
       "      <td>0.341063</td>\n",
       "      <td>0.282494</td>\n",
       "      <td>0.094331</td>\n",
       "      <td>0.242300</td>\n",
       "      <td>NaN</td>\n",
       "      <td>0.460456</td>\n",
       "      <td>-0.517764</td>\n",
       "      <td>0.047581</td>\n",
       "      <td>...</td>\n",
       "      <td>-1.726552</td>\n",
       "      <td>-1.077383</td>\n",
       "      <td>-0.844963</td>\n",
       "      <td>-1.085437</td>\n",
       "      <td>-1.732050</td>\n",
       "      <td>-0.341149</td>\n",
       "      <td>0.244013</td>\n",
       "      <td>0.861176</td>\n",
       "      <td>-1.401596</td>\n",
       "      <td>0.797904</td>\n",
       "    </tr>\n",
       "    <tr>\n",
       "      <th>...</th>\n",
       "      <td>...</td>\n",
       "      <td>...</td>\n",
       "      <td>...</td>\n",
       "      <td>...</td>\n",
       "      <td>...</td>\n",
       "      <td>...</td>\n",
       "      <td>...</td>\n",
       "      <td>...</td>\n",
       "      <td>...</td>\n",
       "      <td>...</td>\n",
       "      <td>...</td>\n",
       "      <td>...</td>\n",
       "      <td>...</td>\n",
       "      <td>...</td>\n",
       "      <td>...</td>\n",
       "      <td>...</td>\n",
       "      <td>...</td>\n",
       "      <td>...</td>\n",
       "      <td>...</td>\n",
       "      <td>...</td>\n",
       "      <td>...</td>\n",
       "    </tr>\n",
       "    <tr>\n",
       "      <th>NT12903</th>\n",
       "      <td>-0.575041</td>\n",
       "      <td>NaN</td>\n",
       "      <td>NaN</td>\n",
       "      <td>0.993674</td>\n",
       "      <td>-0.602798</td>\n",
       "      <td>NaN</td>\n",
       "      <td>NaN</td>\n",
       "      <td>0.880353</td>\n",
       "      <td>0.499751</td>\n",
       "      <td>-0.010904</td>\n",
       "      <td>...</td>\n",
       "      <td>NaN</td>\n",
       "      <td>NaN</td>\n",
       "      <td>NaN</td>\n",
       "      <td>NaN</td>\n",
       "      <td>NaN</td>\n",
       "      <td>NaN</td>\n",
       "      <td>NaN</td>\n",
       "      <td>0.851299</td>\n",
       "      <td>NaN</td>\n",
       "      <td>NaN</td>\n",
       "    </tr>\n",
       "    <tr>\n",
       "      <th>NT12904</th>\n",
       "      <td>-0.759054</td>\n",
       "      <td>NaN</td>\n",
       "      <td>NaN</td>\n",
       "      <td>0.510368</td>\n",
       "      <td>-1.165594</td>\n",
       "      <td>NaN</td>\n",
       "      <td>NaN</td>\n",
       "      <td>-1.418671</td>\n",
       "      <td>-1.150296</td>\n",
       "      <td>-1.316660</td>\n",
       "      <td>...</td>\n",
       "      <td>NaN</td>\n",
       "      <td>NaN</td>\n",
       "      <td>NaN</td>\n",
       "      <td>NaN</td>\n",
       "      <td>NaN</td>\n",
       "      <td>NaN</td>\n",
       "      <td>NaN</td>\n",
       "      <td>-0.696250</td>\n",
       "      <td>NaN</td>\n",
       "      <td>NaN</td>\n",
       "    </tr>\n",
       "    <tr>\n",
       "      <th>NT12905</th>\n",
       "      <td>-3.613819</td>\n",
       "      <td>NaN</td>\n",
       "      <td>NaN</td>\n",
       "      <td>-1.520593</td>\n",
       "      <td>-1.703222</td>\n",
       "      <td>NaN</td>\n",
       "      <td>NaN</td>\n",
       "      <td>-3.227510</td>\n",
       "      <td>-3.642508</td>\n",
       "      <td>-3.711046</td>\n",
       "      <td>...</td>\n",
       "      <td>NaN</td>\n",
       "      <td>NaN</td>\n",
       "      <td>NaN</td>\n",
       "      <td>NaN</td>\n",
       "      <td>NaN</td>\n",
       "      <td>NaN</td>\n",
       "      <td>NaN</td>\n",
       "      <td>1.273073</td>\n",
       "      <td>NaN</td>\n",
       "      <td>NaN</td>\n",
       "    </tr>\n",
       "    <tr>\n",
       "      <th>NT12906</th>\n",
       "      <td>1.063293</td>\n",
       "      <td>NaN</td>\n",
       "      <td>NaN</td>\n",
       "      <td>0.560884</td>\n",
       "      <td>0.624274</td>\n",
       "      <td>NaN</td>\n",
       "      <td>NaN</td>\n",
       "      <td>-0.481714</td>\n",
       "      <td>2.086753</td>\n",
       "      <td>1.373061</td>\n",
       "      <td>...</td>\n",
       "      <td>NaN</td>\n",
       "      <td>NaN</td>\n",
       "      <td>NaN</td>\n",
       "      <td>NaN</td>\n",
       "      <td>NaN</td>\n",
       "      <td>NaN</td>\n",
       "      <td>NaN</td>\n",
       "      <td>1.479300</td>\n",
       "      <td>NaN</td>\n",
       "      <td>NaN</td>\n",
       "    </tr>\n",
       "    <tr>\n",
       "      <th>NT12907</th>\n",
       "      <td>-1.327264</td>\n",
       "      <td>NaN</td>\n",
       "      <td>NaN</td>\n",
       "      <td>0.900828</td>\n",
       "      <td>-0.079109</td>\n",
       "      <td>NaN</td>\n",
       "      <td>NaN</td>\n",
       "      <td>-2.586556</td>\n",
       "      <td>-1.704224</td>\n",
       "      <td>-1.951804</td>\n",
       "      <td>...</td>\n",
       "      <td>NaN</td>\n",
       "      <td>NaN</td>\n",
       "      <td>NaN</td>\n",
       "      <td>NaN</td>\n",
       "      <td>NaN</td>\n",
       "      <td>NaN</td>\n",
       "      <td>NaN</td>\n",
       "      <td>-0.693558</td>\n",
       "      <td>NaN</td>\n",
       "      <td>NaN</td>\n",
       "    </tr>\n",
       "  </tbody>\n",
       "</table>\n",
       "<p>869 rows × 214 columns</p>\n",
       "</div>"
      ],
      "text/plain": [
       "condition   A22.0P5  A22.0P5UM     A22.1   A22.1UM     A22.2  A22.2P5UM  \\\n",
       "strain                                                                    \n",
       "ATC14028   0.461853        NaN       NaN -0.855892       NaN   0.648539   \n",
       "LT2        0.634869        NaN       NaN  0.129073       NaN   0.267326   \n",
       "NT12001    0.973035  -1.556593 -0.746300 -1.197644 -0.580609  -0.409577   \n",
       "NT12002    0.993044  -0.915693 -0.889290 -1.469211  0.538173   0.707219   \n",
       "NT12003   -0.043496   0.032552  0.341063  0.282494  0.094331   0.242300   \n",
       "...             ...        ...       ...       ...       ...        ...   \n",
       "NT12903   -0.575041        NaN       NaN  0.993674 -0.602798        NaN   \n",
       "NT12904   -0.759054        NaN       NaN  0.510368 -1.165594        NaN   \n",
       "NT12905   -3.613819        NaN       NaN -1.520593 -1.703222        NaN   \n",
       "NT12906    1.063293        NaN       NaN  0.560884  0.624274        NaN   \n",
       "NT12907   -1.327264        NaN       NaN  0.900828 -0.079109        NaN   \n",
       "\n",
       "condition   A22.5UM  A22.CCCP  A22.CEFSULODIN  A22.CEPHALEXIN  ...  \\\n",
       "strain                                                         ...   \n",
       "ATC14028   0.320179  0.416647        0.240657       -0.198294  ...   \n",
       "LT2        0.455675  1.804888        1.069904        0.387530  ...   \n",
       "NT12001         NaN -0.794547        0.094425        0.183347  ...   \n",
       "NT12002         NaN  0.380621        0.634499        1.311746  ...   \n",
       "NT12003         NaN  0.460456       -0.517764        0.047581  ...   \n",
       "...             ...       ...             ...             ...  ...   \n",
       "NT12903         NaN  0.880353        0.499751       -0.010904  ...   \n",
       "NT12904         NaN -1.418671       -1.150296       -1.316660  ...   \n",
       "NT12905         NaN -3.227510       -3.642508       -3.711046  ...   \n",
       "NT12906         NaN -0.481714        2.086753        1.373061  ...   \n",
       "NT12907         NaN -2.586556       -1.704224       -1.951804  ...   \n",
       "\n",
       "condition  TRIMETHOPRIM.A22  TRIMETHOPRIM.CEPHALEXIN  \\\n",
       "strain                                                 \n",
       "ATC14028                NaN                      NaN   \n",
       "LT2                     NaN                      NaN   \n",
       "NT12001           -1.072894                -0.630742   \n",
       "NT12002           -0.556301                -0.181908   \n",
       "NT12003           -1.726552                -1.077383   \n",
       "...                     ...                      ...   \n",
       "NT12903                 NaN                      NaN   \n",
       "NT12904                 NaN                      NaN   \n",
       "NT12905                 NaN                      NaN   \n",
       "NT12906                 NaN                      NaN   \n",
       "NT12907                 NaN                      NaN   \n",
       "\n",
       "condition  TRIMETHOPRIM.CHLORAMPHENICOL  TRIMETHOPRIM.FOSFOMYCIN  \\\n",
       "strain                                                             \n",
       "ATC14028                            NaN                      NaN   \n",
       "LT2                                 NaN                      NaN   \n",
       "NT12001                       -0.714179                -0.643048   \n",
       "NT12002                       -0.171593                -0.637145   \n",
       "NT12003                       -0.844963                -1.085437   \n",
       "...                                 ...                      ...   \n",
       "NT12903                             NaN                      NaN   \n",
       "NT12904                             NaN                      NaN   \n",
       "NT12905                             NaN                      NaN   \n",
       "NT12906                             NaN                      NaN   \n",
       "NT12907                             NaN                      NaN   \n",
       "\n",
       "condition  TRIMETHOPRIM.IMIPENEM  TRIMETHOPRIM.PYOCYANIN  TYLOSIN.50  \\\n",
       "strain                                                                 \n",
       "ATC14028                     NaN                     NaN         NaN   \n",
       "LT2                          NaN                     NaN         NaN   \n",
       "NT12001                -0.007615                0.020477    0.586603   \n",
       "NT12002                -0.571075                0.044591    0.785431   \n",
       "NT12003                -1.732050               -0.341149    0.244013   \n",
       "...                          ...                     ...         ...   \n",
       "NT12903                      NaN                     NaN         NaN   \n",
       "NT12904                      NaN                     NaN         NaN   \n",
       "NT12905                      NaN                     NaN         NaN   \n",
       "NT12906                      NaN                     NaN         NaN   \n",
       "NT12907                      NaN                     NaN         NaN   \n",
       "\n",
       "condition  UREA.50MM  VANCOMYCIN.40  VANILLIN.200  \n",
       "strain                                             \n",
       "ATC14028   -1.690149            NaN           NaN  \n",
       "LT2        -0.385880            NaN           NaN  \n",
       "NT12001     0.534589      -0.799052      0.700619  \n",
       "NT12002     2.091638      -0.810707      0.630754  \n",
       "NT12003     0.861176      -1.401596      0.797904  \n",
       "...              ...            ...           ...  \n",
       "NT12903     0.851299            NaN           NaN  \n",
       "NT12904    -0.696250            NaN           NaN  \n",
       "NT12905     1.273073            NaN           NaN  \n",
       "NT12906     1.479300            NaN           NaN  \n",
       "NT12907    -0.693558            NaN           NaN  \n",
       "\n",
       "[869 rows x 214 columns]"
      ]
     },
     "execution_count": 15,
     "metadata": {},
     "output_type": "execute_result"
    }
   ],
   "source": [
    "df.pivot_table(index='strain', columns='condition', values='s-scores')"
   ]
  }
 ],
 "metadata": {
  "celltoolbar": "Initialisation Cell",
  "colab": {
   "collapsed_sections": [
    "_XD_wsn6xlTl",
    "ZWCuCc4vROju",
    "CI-UTzd2R1Tj",
    "ojGccYivUpfh",
    "KkpCA2MgoDv3",
    "M4GXygU-oRG0",
    "otmrx772ozbH",
    "iMfD4TqHOEAC",
    "V_HsX1AtQJAO",
    "gCH26vTjpO1V",
    "MBG0FKUyRd6r",
    "KvjjgiS1pO5_",
    "JVyHwGd8pO6z",
    "IisTEdf_pO60",
    "IVaiW1AjpO7v",
    "OFR5piF5pO8s",
    "yh1-OLBwpO9T",
    "g1i0H2nHpO9x",
    "b36dVw7bpO-r",
    "pTBV83wxpO_K"
   ],
   "name": "2_python_intro-to-pandas.ipynb",
   "provenance": []
  },
  "kernelspec": {
   "display_name": "Python 3",
   "language": "python",
   "name": "python3"
  },
  "language_info": {
   "codemirror_mode": {
    "name": "ipython",
    "version": 3
   },
   "file_extension": ".py",
   "mimetype": "text/x-python",
   "name": "python",
   "nbconvert_exporter": "python",
   "pygments_lexer": "ipython3",
   "version": "3.8.10"
  }
 },
 "nbformat": 4,
 "nbformat_minor": 4
}
