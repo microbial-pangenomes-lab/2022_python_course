{
 "cells": [
  {
   "cell_type": "markdown",
   "metadata": {
    "colab_type": "text",
    "id": "_XD_wsn6xlTl"
   },
   "source": [
    "# Lesson 2: Intro to Pandas - 1\n",
    "\n",
    "### Summary\n",
    "* Flexible, and expressive data structures **Series** (1D) and **DataFrame** (2D)\n",
    "* High-level building block for doing **practical, real world data analysis**\n",
    "* **Nearly as fast as C language** = Build on top of Numpy and extensive use of Cython\n",
    "* **Robust IO tools** for loading and parsing data from text files, excel files and databases.\n",
    "\n",
    "### Additional Resources\n",
    "\n",
    "*   Getting Started Guide: https://pandas.pydata.org/pandas-docs/stable/getting_started/index.html\n",
    "*   Complete User-Guide: https://pandas.pydata.org/pandas-docs/stable/user_guide/index.html#user-guide\n",
    "*   Geeks for Geeks: https://www.geeksforgeeks.org/pandas-tutorial/\n",
    "\n",
    "\n",
    "\n",
    "---\n",
    "\n",
    "\n",
    "\n"
   ]
  },
  {
   "cell_type": "markdown",
   "metadata": {
    "colab_type": "text",
    "id": "T50gPrMGpOvO"
   },
   "source": [
    "# Imports\n",
    "\n",
    "**Importing the packages you need on the top of your script/notebook is good programming practice** "
   ]
  },
  {
   "cell_type": "code",
   "execution_count": null,
   "metadata": {
    "ExecuteTime": {
     "end_time": "2017-09-18T15:07:47.669879",
     "start_time": "2017-09-18T15:07:47.371958Z"
    },
    "colab": {},
    "colab_type": "code",
    "id": "qoHXBqWxpOvl",
    "init_cell": true,
    "run_control": {
     "frozen": false,
     "read_only": false
    }
   },
   "outputs": [],
   "source": [
    "# Import the packages that will be usefull for this lesson\n",
    "import pandas as pd\n",
    "import numpy as np"
   ]
  },
  {
   "cell_type": "markdown",
   "metadata": {
    "colab_type": "text",
    "id": "YXba5aUWkjZ2"
   },
   "source": [
    "---"
   ]
  },
  {
   "cell_type": "markdown",
   "metadata": {
    "colab_type": "text",
    "id": "ZWCuCc4vROju"
   },
   "source": [
    "# pandas Objects\n",
    "Typically, DataFrames and Series objects are created by loading in data from a CSV or excel file (subsequent section). But sometimes you might find it useful to create an object within your script."
   ]
  },
  {
   "cell_type": "markdown",
   "metadata": {
    "colab_type": "text",
    "id": "CI-UTzd2R1Tj"
   },
   "source": [
    "## Pandas Series\n",
    "*   1-D array\n",
    "*   Can contain data of any type (integer, string, float, python objects, etc.)\n",
    "*   axis labels (*i.e.* row names) are called the index\n",
    "\n",
    "**TL;DR a Series is a column in an excel sheet**\n",
    "\n",
    "### Creating Pandas Series\n",
    "\n",
    "**From a List(s)**\n",
    "\n",
    "\n",
    "\n"
   ]
  },
  {
   "cell_type": "code",
   "execution_count": null,
   "metadata": {
    "colab": {
     "base_uri": "https://localhost:8080/",
     "height": 119
    },
    "colab_type": "code",
    "executionInfo": {
     "elapsed": 405,
     "status": "ok",
     "timestamp": 1587737850781,
     "user": {
      "displayName": "Emma Briars",
      "photoUrl": "https://lh3.googleusercontent.com/a-/AOh14Gj14uLObWQe3mbLX6o5aXvFBch63XWb_GUOD_jG=s64",
      "userId": "10583257419353631243"
     },
     "user_tz": 240
    },
    "id": "fXjMp0NgeJPN",
    "outputId": "fd7d18cf-d8f1-43c7-8ec1-a3b56ab12d6d"
   },
   "outputs": [],
   "source": [
    "Base = ('A','T','C','G','N')\n",
    "Freq = (0.21, 0.24, 0.27, 0.25, 0.03)\n",
    "bases = pd.Series(data=Freq, index=Base)\n",
    "bases"
   ]
  },
  {
   "cell_type": "markdown",
   "metadata": {
    "colab_type": "text",
    "id": "-kWmVpaeeM0n"
   },
   "source": [
    "**From a Dictionary**"
   ]
  },
  {
   "cell_type": "code",
   "execution_count": null,
   "metadata": {
    "colab": {
     "base_uri": "https://localhost:8080/",
     "height": 119
    },
    "colab_type": "code",
    "executionInfo": {
     "elapsed": 403,
     "status": "ok",
     "timestamp": 1587737926970,
     "user": {
      "displayName": "Emma Briars",
      "photoUrl": "https://lh3.googleusercontent.com/a-/AOh14Gj14uLObWQe3mbLX6o5aXvFBch63XWb_GUOD_jG=s64",
      "userId": "10583257419353631243"
     },
     "user_tz": 240
    },
    "id": "GgQ7NZmEcuqY",
    "outputId": "68f0e9ac-c4e2-4610-8b7c-60df808ecd3c"
   },
   "outputs": [],
   "source": [
    "d = {'A':0.21, 'T':0.24, 'C':0.27, 'G':0.25, 'N':0.03}\n",
    "bases_2 = pd.Series(d)\n",
    "bases_2"
   ]
  },
  {
   "cell_type": "markdown",
   "metadata": {
    "colab_type": "text",
    "id": "ojGccYivUpfh"
   },
   "source": [
    "## Pandas DataFrames\n",
    "*   2D tabular data \n",
    "*   labeled axes (rows and columns)\n",
    "*   size-mutable (can add/remove data)\n",
    "*   potentially heterogeneous data types\n",
    "\n",
    "### Creating Pandas DataFrames\n",
    "**From a pandas Series**"
   ]
  },
  {
   "cell_type": "code",
   "execution_count": null,
   "metadata": {
    "colab": {
     "base_uri": "https://localhost:8080/",
     "height": 204
    },
    "colab_type": "code",
    "executionInfo": {
     "elapsed": 518,
     "status": "ok",
     "timestamp": 1587737954911,
     "user": {
      "displayName": "Emma Briars",
      "photoUrl": "https://lh3.googleusercontent.com/a-/AOh14Gj14uLObWQe3mbLX6o5aXvFBch63XWb_GUOD_jG=s64",
      "userId": "10583257419353631243"
     },
     "user_tz": 240
    },
    "id": "mnlV6aSSf1YR",
    "outputId": "48973e05-9db5-4400-c985-59072d03013e"
   },
   "outputs": [],
   "source": [
    "d = {'A':0.21, 'T':0.24, 'C':0.27, 'G':0.25, 'N':0.03}\n",
    "bases_2 = pd.Series(d)\n",
    "pd.DataFrame(bases_2, columns=[\"Percent\"])"
   ]
  },
  {
   "cell_type": "markdown",
   "metadata": {
    "colab_type": "text",
    "id": "fO-o4fsFf35D"
   },
   "source": [
    "**From a Dictionary**"
   ]
  },
  {
   "cell_type": "code",
   "execution_count": null,
   "metadata": {
    "colab": {
     "base_uri": "https://localhost:8080/",
     "height": 173
    },
    "colab_type": "code",
    "executionInfo": {
     "elapsed": 517,
     "status": "ok",
     "timestamp": 1587738009909,
     "user": {
      "displayName": "Emma Briars",
      "photoUrl": "https://lh3.googleusercontent.com/a-/AOh14Gj14uLObWQe3mbLX6o5aXvFBch63XWb_GUOD_jG=s64",
      "userId": "10583257419353631243"
     },
     "user_tz": 240
    },
    "id": "rMjtouLPcmOK",
    "outputId": "905458d6-e40d-42f3-b528-3efd6ff32d43"
   },
   "outputs": [],
   "source": [
    "d = {'Protein':['YFP', 'GFP', 'RFP', 'BFP'],\n",
    "     'Ex':[514, 488, 555, 383],\n",
    "     'Em':[527, 510, 584, 445]}\n",
    "df = pd.DataFrame(d) \n",
    "df"
   ]
  },
  {
   "cell_type": "markdown",
   "metadata": {
    "colab_type": "text",
    "id": "Ym2pkCHpfMRP"
   },
   "source": [
    "---"
   ]
  },
  {
   "cell_type": "markdown",
   "metadata": {
    "colab_type": "text",
    "id": "KkpCA2MgoDv3"
   },
   "source": [
    "# Loading Data"
   ]
  },
  {
   "cell_type": "markdown",
   "metadata": {
    "colab_type": "text",
    "id": "M4GXygU-oRG0"
   },
   "source": [
    "### Lesson 1 Recap\n",
    "Last time, we learned about loading a text file for reading and writing.\n",
    "\n",
    "```\n",
    "f = open('mysequence.fasta', 'r')\n",
    "new_file = open('thesis.txt', 'w')\n",
    "```\n",
    "\n",
    "This is useful for text-based data, such as FASTA files or text documents.\n",
    "\n",
    "But what about **tabular data**, such as data from your flow experiment, or time-course data from the plate-reader?\n"
   ]
  },
  {
   "cell_type": "markdown",
   "metadata": {
    "colab_type": "text",
    "id": "otmrx772ozbH"
   },
   "source": [
    "### Using Pandas to Load Data\n",
    "There are many methods to use pandas to load data. You can choose which method to use based off of your file-type, and can adjust the parameters accordingly.\n",
    "\n",
    "**Load from a .csv file using `pd.read_csv()`**\n",
    "```\n",
    "# Comma-delimited text\n",
    "data = pd.read_csv('new_data.csv')\n",
    "\n",
    "# Tab-delimited text\n",
    "data = pd.read_csv('newer_data.txt', sep='\\t')\n",
    "\n",
    "# From a URL\n",
    "data = pd.read_csv('https://raw.githubusercontent.com/FBosler/you-datascientist/master/happiness_with_continent.csv')\n",
    "```\n",
    "\n",
    "**Load from a .xls/.xlsx file using `pd.read_excel()`**\n",
    "```\n",
    "data = pd.read_excel('thesis_data.xlsx')\n",
    "```\n",
    "\n",
    "#### Useful Parameters for Loading Data\n",
    "\n",
    "\n",
    "*   **sep**: separator for the columns (*e.g.* ',' or '\\t')\n",
    "*   **header**: row that contains the column headers (*e.g.* 'None', 2 (third row, skip everything above it)\n",
    "*   **index_col**: which column should be the index (row names)\n"
   ]
  },
  {
   "cell_type": "code",
   "execution_count": null,
   "metadata": {
    "colab": {},
    "colab_type": "code",
    "id": "WaKJMWdVJnSn"
   },
   "outputs": [],
   "source": [
    "## Example: Loading Data \n",
    "infile = '../data/ecoli.txt'\n",
    "data = pd.read_csv(infile, sep='\\t')"
   ]
  },
  {
   "cell_type": "code",
   "execution_count": null,
   "metadata": {},
   "outputs": [],
   "source": [
    "data"
   ]
  },
  {
   "cell_type": "markdown",
   "metadata": {
    "colab_type": "text",
    "id": "kwTYWhwVoIzS"
   },
   "source": [
    "---"
   ]
  },
  {
   "cell_type": "markdown",
   "metadata": {
    "colab_type": "text",
    "id": "pkPAiUsRN8RE"
   },
   "source": [
    "# Inspecting & Describing Data"
   ]
  },
  {
   "cell_type": "markdown",
   "metadata": {
    "colab_type": "text",
    "id": "iMfD4TqHOEAC"
   },
   "source": [
    "Once data has been created/loaded using pandas, it is useful to 'look' at the data and ensure that it has been initialized properly. Rather than look at the entire data table, you can use simple functions to take a peak at the top, bottom, or random mix of the table.\n",
    "\n",
    "### Functions to View Data\n",
    "\n",
    "*   `data.head()`: display first n rows\n",
    "*   `data.tail()`: display last n rows\n",
    "*   `data.sample()`: display n random rows\n",
    "\n"
   ]
  },
  {
   "cell_type": "code",
   "execution_count": null,
   "metadata": {},
   "outputs": [],
   "source": [
    "## Example: Viewing Data\n",
    "# Display the first 5 rows\n",
    "data.head()"
   ]
  },
  {
   "cell_type": "code",
   "execution_count": null,
   "metadata": {},
   "outputs": [],
   "source": [
    "# Display the last 10 rows\n",
    "data.tail(10)"
   ]
  },
  {
   "cell_type": "code",
   "execution_count": null,
   "metadata": {
    "colab": {
     "base_uri": "https://localhost:8080/",
     "height": 306
    },
    "colab_type": "code",
    "executionInfo": {
     "elapsed": 442,
     "status": "ok",
     "timestamp": 1587738446674,
     "user": {
      "displayName": "Emma Briars",
      "photoUrl": "https://lh3.googleusercontent.com/a-/AOh14Gj14uLObWQe3mbLX6o5aXvFBch63XWb_GUOD_jG=s64",
      "userId": "10583257419353631243"
     },
     "user_tz": 240
    },
    "id": "qrbUhTkOPcY8",
    "outputId": "d2f8a761-b1f2-4451-f341-78b9354be0f2"
   },
   "outputs": [],
   "source": [
    "# Display a random sampling of 7 rows\n",
    "data.sample(7)"
   ]
  },
  {
   "cell_type": "code",
   "execution_count": null,
   "metadata": {
    "colab": {},
    "colab_type": "code",
    "id": "twCa7spWjb6R"
   },
   "outputs": [],
   "source": [
    "## Example: Loading & Viewing Data #2\n",
    "## After viewing the table, we realize we want to use \"GeneID\" as the rownames instead of numbers\n",
    "new_data = pd.read_csv(infile, sep='\\t', index_col='GeneID')\n",
    "new_data.head()"
   ]
  },
  {
   "cell_type": "markdown",
   "metadata": {
    "colab_type": "text",
    "id": "V_HsX1AtQJAO"
   },
   "source": [
    "## Functions to Describe Data\n",
    "\n",
    "*   `data.shape`: dimensions of data (# rows, # columns) *This is not actually a function, but a property, so do not use '()'\n",
    "*   `data.info()`: data types of each column\n",
    "*   `data.describe()`: statistical information about the numerical columns\n",
    "\n"
   ]
  },
  {
   "cell_type": "code",
   "execution_count": null,
   "metadata": {},
   "outputs": [],
   "source": [
    "## Example: Describing Data\n",
    "data.shape"
   ]
  },
  {
   "cell_type": "code",
   "execution_count": null,
   "metadata": {},
   "outputs": [],
   "source": [
    "data.info()"
   ]
  },
  {
   "cell_type": "code",
   "execution_count": null,
   "metadata": {
    "colab": {
     "base_uri": "https://localhost:8080/",
     "height": 297
    },
    "colab_type": "code",
    "executionInfo": {
     "elapsed": 668,
     "status": "ok",
     "timestamp": 1587738619525,
     "user": {
      "displayName": "Emma Briars",
      "photoUrl": "https://lh3.googleusercontent.com/a-/AOh14Gj14uLObWQe3mbLX6o5aXvFBch63XWb_GUOD_jG=s64",
      "userId": "10583257419353631243"
     },
     "user_tz": 240
    },
    "id": "vbshBN99RnZN",
    "outputId": "5b4c3003-6a89-49c3-a469-d37b5eab0154"
   },
   "outputs": [],
   "source": [
    "data.describe()"
   ]
  },
  {
   "cell_type": "markdown",
   "metadata": {},
   "source": [
    "---\n"
   ]
  },
  {
   "cell_type": "markdown",
   "metadata": {},
   "source": [
    "Exercises\n",
    "---------"
   ]
  },
  {
   "cell_type": "markdown",
   "metadata": {},
   "source": [
    "Load a dataframe from this file hosted online: https://evocellnet.github.io/ecoref/data/phenotypic_data.tsv\n",
    "\n",
    "**Hint:** the file extension might indicate which field separator to expect"
   ]
  },
  {
   "cell_type": "code",
   "execution_count": null,
   "metadata": {},
   "outputs": [],
   "source": []
  },
  {
   "cell_type": "markdown",
   "metadata": {},
   "source": [
    "How big is the dataframe? How many rows and columns are there?"
   ]
  },
  {
   "cell_type": "code",
   "execution_count": null,
   "metadata": {},
   "outputs": [],
   "source": []
  },
  {
   "cell_type": "markdown",
   "metadata": {},
   "source": [
    "How many non-null rows are there for each column? What is the type of each column?"
   ]
  },
  {
   "cell_type": "code",
   "execution_count": null,
   "metadata": {},
   "outputs": [],
   "source": []
  },
  {
   "cell_type": "markdown",
   "metadata": {},
   "source": [
    "What is the mean value for the `s-scores` column?"
   ]
  },
  {
   "cell_type": "code",
   "execution_count": null,
   "metadata": {},
   "outputs": [],
   "source": []
  }
 ],
 "metadata": {
  "celltoolbar": "Initialisation Cell",
  "colab": {
   "collapsed_sections": [
    "_XD_wsn6xlTl",
    "ZWCuCc4vROju",
    "CI-UTzd2R1Tj",
    "ojGccYivUpfh",
    "KkpCA2MgoDv3",
    "M4GXygU-oRG0",
    "otmrx772ozbH",
    "iMfD4TqHOEAC",
    "V_HsX1AtQJAO",
    "gCH26vTjpO1V",
    "MBG0FKUyRd6r",
    "KvjjgiS1pO5_",
    "JVyHwGd8pO6z",
    "IisTEdf_pO60",
    "IVaiW1AjpO7v",
    "OFR5piF5pO8s",
    "yh1-OLBwpO9T",
    "g1i0H2nHpO9x",
    "b36dVw7bpO-r",
    "pTBV83wxpO_K"
   ],
   "name": "2_python_intro-to-pandas.ipynb",
   "provenance": []
  },
  "kernelspec": {
   "display_name": "Python 3",
   "language": "python",
   "name": "python3"
  },
  "language_info": {
   "codemirror_mode": {
    "name": "ipython",
    "version": 3
   },
   "file_extension": ".py",
   "mimetype": "text/x-python",
   "name": "python",
   "nbconvert_exporter": "python",
   "pygments_lexer": "ipython3",
   "version": "3.8.10"
  }
 },
 "nbformat": 4,
 "nbformat_minor": 4
}
