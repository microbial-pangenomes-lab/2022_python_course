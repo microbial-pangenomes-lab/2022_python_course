{
 "cells": [
  {
   "cell_type": "markdown",
   "metadata": {},
   "source": [
    "Plotting with matplotlib - 2\n",
    "========================"
   ]
  },
  {
   "cell_type": "code",
   "execution_count": null,
   "metadata": {},
   "outputs": [],
   "source": [
    "# plotting imports\n",
    "import matplotlib.pyplot as plt\n",
    "import seaborn as sns"
   ]
  },
  {
   "cell_type": "code",
   "execution_count": null,
   "metadata": {},
   "outputs": [],
   "source": [
    "# other imports\n",
    "import numpy as np\n",
    "import pandas as pd\n",
    "from scipy import stats"
   ]
  },
  {
   "cell_type": "markdown",
   "metadata": {},
   "source": [
    "What about other plot types?\n",
    "---\n",
    "\n",
    "Such as boxplots, heatmaps, complex plots *a la* ggplot.\n",
    "Find a galery with code here: https://matplotlib.org/gallery/index.html\n",
    "\n",
    "**However:** seaborn covers them much better, leveraging the power of pandas `DataFrame`s"
   ]
  },
  {
   "cell_type": "code",
   "execution_count": null,
   "metadata": {},
   "outputs": [],
   "source": [
    "# load a nice, tidy, test dataset\n",
    "tips = sns.load_dataset('tips')"
   ]
  },
  {
   "cell_type": "code",
   "execution_count": null,
   "metadata": {},
   "outputs": [],
   "source": [
    "tips.head()"
   ]
  },
  {
   "cell_type": "code",
   "execution_count": null,
   "metadata": {},
   "outputs": [],
   "source": [
    "tips.info()"
   ]
  },
  {
   "cell_type": "code",
   "execution_count": null,
   "metadata": {},
   "outputs": [],
   "source": [
    "sns.relplot(x=\"total_bill\",\n",
    "            y=\"tip\",\n",
    "            col=\"time\",\n",
    "            # same category used for both style and color\n",
    "            hue=\"smoker\",\n",
    "            style=\"smoker\",\n",
    "            size=\"size\",\n",
    "            data=tips,\n",
    "            # stylistic stuff\n",
    "            height=4,\n",
    "            aspect=1,\n",
    "            palette=['xkcd:indigo', 'xkcd:grass green'],\n",
    "            hue_order=['No', 'Yes']);"
   ]
  },
  {
   "cell_type": "markdown",
   "metadata": {},
   "source": [
    "Statistical relationships: `relplot`\n",
    "---"
   ]
  },
  {
   "cell_type": "code",
   "execution_count": null,
   "metadata": {},
   "outputs": [],
   "source": [
    "sns.relplot(x=\"total_bill\", y=\"tip\",\n",
    "            size=\"size\",\n",
    "            # change size range\n",
    "            sizes=(1, 100),\n",
    "            #\n",
    "            data=tips);"
   ]
  },
  {
   "cell_type": "code",
   "execution_count": null,
   "metadata": {},
   "outputs": [],
   "source": [
    "# some more data\n",
    "fmri = sns.load_dataset(\"fmri\")"
   ]
  },
  {
   "cell_type": "code",
   "execution_count": null,
   "metadata": {},
   "outputs": [],
   "source": [
    "fmri.head()"
   ]
  },
  {
   "cell_type": "code",
   "execution_count": null,
   "metadata": {},
   "outputs": [],
   "source": [
    "sns.relplot(x=\"timepoint\", y=\"signal\",\n",
    "            data=fmri);"
   ]
  },
  {
   "cell_type": "code",
   "execution_count": null,
   "metadata": {},
   "outputs": [],
   "source": [
    "sns.relplot(x=\"timepoint\", y=\"signal\",\n",
    "            # lineplot instead of scatterplot\n",
    "            # by default mean and 95% confidence interval\n",
    "            # if we are aggregating multiple lines\n",
    "            kind=\"line\",\n",
    "            #\n",
    "            data=fmri);"
   ]
  },
  {
   "cell_type": "code",
   "execution_count": null,
   "metadata": {},
   "outputs": [],
   "source": [
    "sns.relplot(x=\"timepoint\", y=\"signal\",\n",
    "            # lineplot instead of scatterplot\n",
    "            kind=\"line\",\n",
    "            #\n",
    "            ci='sd', estimator=\"median\",\n",
    "            data=fmri);"
   ]
  },
  {
   "cell_type": "code",
   "execution_count": null,
   "metadata": {},
   "outputs": [],
   "source": [
    "sns.relplot(x=\"timepoint\", y=\"signal\",\n",
    "            col=\"region\",\n",
    "            hue=\"event\",\n",
    "            kind=\"line\",\n",
    "            data=fmri);"
   ]
  },
  {
   "cell_type": "code",
   "execution_count": null,
   "metadata": {},
   "outputs": [],
   "source": [
    "sns.relplot(x=\"timepoint\", y=\"signal\",\n",
    "            col=\"region\",\n",
    "            hue=\"event\",\n",
    "            kind=\"line\",\n",
    "            # no aggregation\n",
    "            estimator=None,\n",
    "            #\n",
    "            data=fmri);"
   ]
  },
  {
   "cell_type": "code",
   "execution_count": null,
   "metadata": {},
   "outputs": [],
   "source": [
    "sns.relplot(x=\"timepoint\", y=\"signal\",\n",
    "            col=\"region\",\n",
    "            hue=\"event\",\n",
    "            kind=\"line\",\n",
    "            # no aggregation\n",
    "            units=\"subject\", estimator=None,\n",
    "            #\n",
    "            data=fmri);"
   ]
  },
  {
   "cell_type": "markdown",
   "metadata": {},
   "source": [
    "**I do I access individual axes?**"
   ]
  },
  {
   "cell_type": "code",
   "execution_count": null,
   "metadata": {},
   "outputs": [],
   "source": [
    "rp = sns.relplot(x=\"timepoint\", y=\"signal\",\n",
    "                 col=\"region\",\n",
    "                 hue=\"event\",\n",
    "                 kind=\"line\",\n",
    "                 data=fmri)\n",
    "for ax in rp.axes.flatten():\n",
    "    ax.set_xlabel('Changing stuff')\n",
    "    ax.set_ylabel('Also here')\n",
    "    # crazy thing\n",
    "    ax.set_yscale('log', base=2)"
   ]
  },
  {
   "cell_type": "code",
   "execution_count": null,
   "metadata": {},
   "outputs": [],
   "source": [
    "rp.axes    "
   ]
  },
  {
   "cell_type": "code",
   "execution_count": null,
   "metadata": {},
   "outputs": [],
   "source": [
    "rp.axes.shape"
   ]
  },
  {
   "cell_type": "code",
   "execution_count": null,
   "metadata": {},
   "outputs": [],
   "source": [
    "# not only columns, but also rows\n",
    "sns.relplot(x=\"timepoint\", y=\"signal\", hue=\"subject\",\n",
    "            col=\"region\", row=\"event\", height=3,\n",
    "            kind=\"line\", estimator=None, palette='hsv',\n",
    "            data=fmri);"
   ]
  },
  {
   "cell_type": "markdown",
   "metadata": {},
   "source": [
    "Categorical data: `catplot`\n",
    "---\n",
    "\n",
    "Categorical scatterplots:\n",
    "\n",
    "    stripplot() (with kind=\"strip\"; the default)\n",
    "\n",
    "    swarmplot() (with kind=\"swarm\")\n",
    "\n",
    "Categorical distribution plots:\n",
    "\n",
    "    boxplot() (with kind=\"box\")\n",
    "\n",
    "    violinplot() (with kind=\"violin\")\n",
    "\n",
    "    boxenplot() (with kind=\"boxen\")\n",
    "\n",
    "Categorical estimate plots:\n",
    "\n",
    "    pointplot() (with kind=\"point\")\n",
    "\n",
    "    barplot() (with kind=\"bar\")\n",
    "\n",
    "    countplot() (with kind=\"count\")\n"
   ]
  },
  {
   "cell_type": "code",
   "execution_count": null,
   "metadata": {},
   "outputs": [],
   "source": [
    "sns.catplot(x=\"day\", y=\"total_bill\",\n",
    "#             jitter=False,\n",
    "#             jitter=0.4,\n",
    "            data=tips);"
   ]
  },
  {
   "cell_type": "code",
   "execution_count": null,
   "metadata": {},
   "outputs": [],
   "source": [
    "sns.catplot(x=\"day\", y=\"total_bill\",\n",
    "#             jitter=0.4,\n",
    "            kind='swarm',\n",
    "            data=tips);"
   ]
  },
  {
   "cell_type": "code",
   "execution_count": null,
   "metadata": {},
   "outputs": [],
   "source": [
    "sns.catplot(x=\"day\", y=\"total_bill\",\n",
    "            hue='sex',\n",
    "            hue_order=['Female', 'Male'],\n",
    "            order=['Sun', 'Sat', 'Fri', 'Thur'],\n",
    "            kind='swarm',\n",
    "            data=tips);"
   ]
  },
  {
   "cell_type": "code",
   "execution_count": null,
   "metadata": {},
   "outputs": [],
   "source": [
    "sns.catplot(x=\"size\", y=\"total_bill\",\n",
    "            kind=\"swarm\",\n",
    "#             orient='h',\n",
    "            data=tips);"
   ]
  },
  {
   "cell_type": "code",
   "execution_count": null,
   "metadata": {},
   "outputs": [],
   "source": [
    "sns.catplot(x=\"day\", y=\"total_bill\",\n",
    "            hue='sex',\n",
    "            hue_order=['Female', 'Male'],\n",
    "            order=['Sun', 'Sat', 'Fri', 'Thur'],\n",
    "            kind='swarm',\n",
    "            data=tips);"
   ]
  },
  {
   "cell_type": "code",
   "execution_count": null,
   "metadata": {},
   "outputs": [],
   "source": [
    "sns.catplot(x=\"day\", y=\"total_bill\",\n",
    "            hue='sex',\n",
    "            hue_order=['Female', 'Male'],\n",
    "            order=['Sun', 'Sat', 'Fri', 'Thur'],\n",
    "            kind='box',\n",
    "            notch=True,\n",
    "            data=tips);"
   ]
  },
  {
   "cell_type": "code",
   "execution_count": null,
   "metadata": {},
   "outputs": [],
   "source": [
    "sns.catplot(x=\"day\", y=\"total_bill\",\n",
    "            hue='sex',\n",
    "            hue_order=['Female', 'Male'],\n",
    "            order=['Sun', 'Sat', 'Fri', 'Thur'],\n",
    "            kind='boxen',\n",
    "            data=tips);"
   ]
  },
  {
   "cell_type": "code",
   "execution_count": null,
   "metadata": {},
   "outputs": [],
   "source": [
    "sns.catplot(x=\"day\", y=\"total_bill\",\n",
    "            hue='sex',\n",
    "            hue_order=['Female', 'Male'],\n",
    "            order=['Sun', 'Sat', 'Fri', 'Thur'],\n",
    "            kind='violin',\n",
    "            palette='Blues',\n",
    "#             split=True,\n",
    "#             bw=0.1, # bandwith argument for the underlying kde\n",
    "#             palette='jet',\n",
    "            data=tips);"
   ]
  },
  {
   "cell_type": "code",
   "execution_count": null,
   "metadata": {},
   "outputs": [],
   "source": [
    "g = sns.catplot(x=\"day\", y=\"total_bill\",\n",
    "                kind=\"violin\",\n",
    "                inner=None, data=tips)\n",
    "sns.swarmplot(x=\"day\", y=\"total_bill\",\n",
    "              color=\"k\",\n",
    "              size=3, data=tips,\n",
    "              ax=g.ax);"
   ]
  },
  {
   "cell_type": "code",
   "execution_count": null,
   "metadata": {},
   "outputs": [],
   "source": [
    "g = sns.catplot(y=\"day\", x=\"total_bill\",\n",
    "                kind=\"box\", color='xkcd:pale grey',\n",
    "                orient='h',\n",
    "                data=tips,\n",
    "                height=3, aspect=2)\n",
    "sns.swarmplot(y=\"day\", x=\"total_bill\",\n",
    "              orient='h',\n",
    "              color=\"k\", alpha=0.7,\n",
    "              size=6, data=tips,\n",
    "              ax=g.ax);"
   ]
  },
  {
   "cell_type": "code",
   "execution_count": null,
   "metadata": {},
   "outputs": [],
   "source": [
    "sns.catplot(x=\"day\", y=\"total_bill\",\n",
    "            hue='sex',\n",
    "            data=tips,\n",
    "            kind='bar',\n",
    "#             ci='sd', estimator=np.median,\n",
    "            height=5, aspect=0.7);"
   ]
  },
  {
   "cell_type": "code",
   "execution_count": null,
   "metadata": {},
   "outputs": [],
   "source": [
    "sns.catplot(x=\"day\", y=\"total_bill\",\n",
    "            hue='sex',\n",
    "            data=tips,\n",
    "            kind='point',\n",
    "            height=5, aspect=0.7);"
   ]
  },
  {
   "cell_type": "markdown",
   "metadata": {},
   "source": [
    "Linear regressions: `lmplot`\n",
    "---"
   ]
  },
  {
   "cell_type": "code",
   "execution_count": null,
   "metadata": {},
   "outputs": [],
   "source": [
    "sns.lmplot(x=\"total_bill\", y=\"tip\", data=tips);"
   ]
  },
  {
   "cell_type": "code",
   "execution_count": null,
   "metadata": {},
   "outputs": [],
   "source": [
    "anscombe = sns.load_dataset(\"anscombe\")\n",
    "anscombe.head()"
   ]
  },
  {
   "cell_type": "code",
   "execution_count": null,
   "metadata": {},
   "outputs": [],
   "source": [
    "sns.lmplot(x=\"x\", y=\"y\", data=anscombe,\n",
    "           ci=None, height=4, aspect=1,\n",
    "           col='dataset', col_wrap=2,\n",
    "#            order=2,\n",
    "#            robust=True,\n",
    "#            lowess=True,\n",
    "          );"
   ]
  },
  {
   "cell_type": "code",
   "execution_count": null,
   "metadata": {},
   "outputs": [],
   "source": [
    "sns.lmplot(x=\"total_bill\", y=\"tip\", hue=\"smoker\",\n",
    "#            ci=None,\n",
    "           data=tips);"
   ]
  },
  {
   "cell_type": "markdown",
   "metadata": {},
   "source": [
    "Univariate and bivariate distributions: `distplot`\n",
    "---"
   ]
  },
  {
   "cell_type": "code",
   "execution_count": null,
   "metadata": {},
   "outputs": [],
   "source": [
    "# random distribution\n",
    "x = np.random.normal(size=100)"
   ]
  },
  {
   "cell_type": "code",
   "execution_count": null,
   "metadata": {},
   "outputs": [],
   "source": [
    "sns.histplot(x,\n",
    "#              kde=False,\n",
    "#              rug=True,\n",
    "             bins=20,\n",
    "             )\n",
    "sns.despine();"
   ]
  },
  {
   "cell_type": "code",
   "execution_count": null,
   "metadata": {},
   "outputs": [],
   "source": [
    "# random gamma distribution\n",
    "x = np.random.gamma(6, size=200)"
   ]
  },
  {
   "cell_type": "code",
   "execution_count": null,
   "metadata": {},
   "outputs": [],
   "source": [
    "sns.histplot(x, \n",
    "             kde=True,\n",
    "            );"
   ]
  },
  {
   "cell_type": "code",
   "execution_count": null,
   "metadata": {},
   "outputs": [],
   "source": [
    "# generate bivariate\n",
    "mean, cov = [0, 1], [(1, .5), (.5, 1)]\n",
    "data = np.random.multivariate_normal(mean, cov, 200)\n",
    "df = pd.DataFrame(data, columns=[\"x\", \"y\"])"
   ]
  },
  {
   "cell_type": "code",
   "execution_count": null,
   "metadata": {},
   "outputs": [],
   "source": [
    "sns.jointplot(x=\"x\", y=\"y\", data=df,\n",
    "#               kind='hex',\n",
    "#               kind='kde',\n",
    "             );"
   ]
  },
  {
   "cell_type": "code",
   "execution_count": null,
   "metadata": {},
   "outputs": [],
   "source": [
    "# another dataset\n",
    "iris = sns.load_dataset(\"iris\")\n",
    "iris.sample(5)"
   ]
  },
  {
   "cell_type": "code",
   "execution_count": null,
   "metadata": {},
   "outputs": [],
   "source": [
    "sns.pairplot(iris,\n",
    "#              hue='species'\n",
    "            );"
   ]
  },
  {
   "cell_type": "markdown",
   "metadata": {},
   "source": [
    "Heatmaps, clustermaps\n",
    "---\n",
    "\n",
    "- Heatmap `sns.heatmap` example: http://seaborn.pydata.org/examples/many_pairwise_correlations.html\n",
    "- Clustermap `sns.clustermap` example: http://seaborn.pydata.org/examples/structured_heatmap.html"
   ]
  },
  {
   "cell_type": "code",
   "execution_count": null,
   "metadata": {},
   "outputs": [],
   "source": [
    "df = sns.load_dataset('flights')"
   ]
  },
  {
   "cell_type": "code",
   "execution_count": null,
   "metadata": {},
   "outputs": [],
   "source": [
    "df"
   ]
  },
  {
   "cell_type": "code",
   "execution_count": null,
   "metadata": {},
   "outputs": [],
   "source": [
    "# need a long dataframe, not tidy\n",
    "long = df.pivot_table(index='year', columns='month', values='passengers')"
   ]
  },
  {
   "cell_type": "code",
   "execution_count": null,
   "metadata": {},
   "outputs": [],
   "source": [
    "fig, ax = plt.subplots(figsize=(7, 5))\n",
    "\n",
    "sns.heatmap(data=long,\n",
    "            cmap='viridis',\n",
    "#             vmin=0, vmax=650,\n",
    "#             robust=True,\n",
    "#             square=True,\n",
    "#             linewidths=1,\n",
    "#             annot=True,\n",
    "            );"
   ]
  },
  {
   "cell_type": "code",
   "execution_count": null,
   "metadata": {},
   "outputs": [],
   "source": [
    "sns.clustermap(data=long,\n",
    "               cmap='viridis',\n",
    "#              vmin=0, vmax=650,\n",
    "#              robust=True,\n",
    "#              linewidths=1,\n",
    "#              annot=True,\n",
    "               figsize=(6, 6));"
   ]
  },
  {
   "cell_type": "code",
   "execution_count": null,
   "metadata": {},
   "outputs": [],
   "source": [
    "df = sns.load_dataset('tips')"
   ]
  },
  {
   "cell_type": "code",
   "execution_count": null,
   "metadata": {},
   "outputs": [],
   "source": [
    "df"
   ]
  },
  {
   "cell_type": "code",
   "execution_count": null,
   "metadata": {},
   "outputs": [],
   "source": [
    "long = df.pivot_table(index='day', columns='size', values='tip')"
   ]
  },
  {
   "cell_type": "code",
   "execution_count": null,
   "metadata": {},
   "outputs": [],
   "source": [
    "sns.clustermap(data=long,\n",
    "               cmap='viridis',\n",
    "#              robust=True,\n",
    "#              linewidths=1,\n",
    "#              annot=True,\n",
    "               figsize=(4, 4));"
   ]
  },
  {
   "cell_type": "code",
   "execution_count": null,
   "metadata": {},
   "outputs": [],
   "source": [
    "long[np.isnan(long)] = 0"
   ]
  },
  {
   "cell_type": "code",
   "execution_count": null,
   "metadata": {},
   "outputs": [],
   "source": [
    "sns.clustermap(data=long,\n",
    "               cmap='viridis',\n",
    "#              robust=True,\n",
    "#              linewidths=1,\n",
    "#              annot=True,\n",
    "               col_cluster=False,\n",
    "               figsize=(4, 4));"
   ]
  },
  {
   "cell_type": "code",
   "execution_count": null,
   "metadata": {},
   "outputs": [],
   "source": [
    "corr = long.corr()"
   ]
  },
  {
   "cell_type": "code",
   "execution_count": null,
   "metadata": {},
   "outputs": [],
   "source": [
    "sns.clustermap(data=corr,\n",
    "               cmap='vlag',\n",
    "               center=0,\n",
    "#              vmin=-1, vmax=1,\n",
    "#              robust=True,\n",
    "#              linewidths=1,\n",
    "#              annot=True,\n",
    "               figsize=(4, 4));"
   ]
  },
  {
   "cell_type": "markdown",
   "metadata": {},
   "source": [
    "Last: changing styles\n",
    "---"
   ]
  },
  {
   "cell_type": "code",
   "execution_count": null,
   "metadata": {},
   "outputs": [],
   "source": [
    "plt.style.available"
   ]
  },
  {
   "cell_type": "code",
   "execution_count": null,
   "metadata": {},
   "outputs": [],
   "source": [
    "for style in plt.style.available:\n",
    "    with plt.style.context(style):\n",
    "        lp = sns.lmplot(x=\"total_bill\", y=\"tip\", hue=\"smoker\",\n",
    "                        ci=None,\n",
    "                        data=tips)\n",
    "        lp.axes.flatten()[0].set_title(style);"
   ]
  },
  {
   "cell_type": "markdown",
   "metadata": {},
   "source": [
    "---\n"
   ]
  },
  {
   "cell_type": "markdown",
   "metadata": {},
   "source": [
    "Exercises\n",
    "---------"
   ]
  },
  {
   "cell_type": "markdown",
   "metadata": {},
   "source": [
    "Using the data from this URL: https://evocellnet.github.io/ecoref/data/phenotypic_data.tsv"
   ]
  },
  {
   "cell_type": "markdown",
   "metadata": {},
   "source": [
    "Make a histogram with the disribution of s-scores across all conditions. Play with the number of bins or other distribution types to find the best representation"
   ]
  },
  {
   "cell_type": "code",
   "execution_count": null,
   "metadata": {},
   "outputs": [],
   "source": []
  },
  {
   "cell_type": "markdown",
   "metadata": {},
   "source": [
    "Make a boxplot to show the distribution of s-scores for 10 random conditions"
   ]
  },
  {
   "cell_type": "code",
   "execution_count": null,
   "metadata": {},
   "outputs": [],
   "source": []
  },
  {
   "cell_type": "markdown",
   "metadata": {},
   "source": [
    "Make a barplot with the number of growth defect phenotypes for each condition"
   ]
  },
  {
   "cell_type": "code",
   "execution_count": null,
   "metadata": {},
   "outputs": [],
   "source": []
  },
  {
   "cell_type": "markdown",
   "metadata": {},
   "source": [
    "Can you think of another plot type to show the data from a single condition?"
   ]
  },
  {
   "cell_type": "code",
   "execution_count": null,
   "metadata": {},
   "outputs": [],
   "source": []
  },
  {
   "cell_type": "markdown",
   "metadata": {},
   "source": [
    "Pick one of the following datasets (which you can load using the `load_dataset` function) and create a plot showing the correlation between numerical variables. Which variable pair has the highest correlation and what is its value?\n",
    "\n",
    "Available datasets:\n",
    "\n",
    "* `geyser`: duration of eruptions of the [\"Old-faithful\" geyser](https://en.wikipedia.org/wiki/Old_Faithful)\n",
    "* `titanic`: characteristics of survivors Vs. drowned people in the Titanic disaster\n",
    "* `taxis`: various taxi rides, when they happened, fares, distance, etc...\n",
    "\n",
    "**Note:** the last dataset also has variables with dates. These have a special type in pandas, which could be fun to work with for advanced users"
   ]
  },
  {
   "cell_type": "code",
   "execution_count": null,
   "metadata": {},
   "outputs": [],
   "source": []
  }
 ],
 "metadata": {
  "kernelspec": {
   "display_name": "Python 3",
   "language": "python",
   "name": "python3"
  },
  "language_info": {
   "codemirror_mode": {
    "name": "ipython",
    "version": 3
   },
   "file_extension": ".py",
   "mimetype": "text/x-python",
   "name": "python",
   "nbconvert_exporter": "python",
   "pygments_lexer": "ipython3",
   "version": "3.8.10"
  }
 },
 "nbformat": 4,
 "nbformat_minor": 4
}
