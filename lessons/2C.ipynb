{
 "cells": [
  {
   "cell_type": "markdown",
   "metadata": {
    "colab_type": "text",
    "id": "_XD_wsn6xlTl"
   },
   "source": [
    "# Lesson 2: Intro to Pandas - 3\n",
    "\n",
    "---\n",
    "\n",
    "\n",
    "\n"
   ]
  },
  {
   "cell_type": "code",
   "execution_count": null,
   "metadata": {
    "ExecuteTime": {
     "end_time": "2017-09-18T15:07:47.669879",
     "start_time": "2017-09-18T15:07:47.371958Z"
    },
    "colab": {},
    "colab_type": "code",
    "id": "qoHXBqWxpOvl",
    "init_cell": true,
    "run_control": {
     "frozen": false,
     "read_only": false
    }
   },
   "outputs": [],
   "source": [
    "# Import the packages that will be usefull for this lesson\n",
    "import pandas as pd\n",
    "import numpy as np"
   ]
  },
  {
   "cell_type": "markdown",
   "metadata": {
    "colab_type": "text",
    "id": "YXba5aUWkjZ2"
   },
   "source": [
    "---"
   ]
  },
  {
   "cell_type": "markdown",
   "metadata": {
    "colab_type": "text",
    "id": "yh1-OLBwpO9T"
   },
   "source": [
    "### Descriptive statistics of a DataFrame"
   ]
  },
  {
   "cell_type": "markdown",
   "metadata": {
    "colab_type": "text",
    "id": "h3u1HmgbpO9T"
   },
   "source": [
    "The results will only contain the relevant columns (for example *mean()* will be applied only to numeric columns).\n",
    " \n",
    "| Function \t| Description                                \t|\n",
    "|----------\t|--------------------------------------------\t|\n",
    "| count    \t| Number of non-null observations            \t|\n",
    "| sum      \t| Sum of values                              \t|\n",
    "| mean     \t| Mean of values                             \t|\n",
    "| mad      \t| Mean absolute deviation                    \t|\n",
    "| median   \t| Arithmetic median of values                \t|\n",
    "| min      \t| Minimum                                    \t|\n",
    "| max      \t| Maximum                                    \t|\n",
    "| mode     \t| Mode                                       \t|\n",
    "| abs      \t| Absolute Value                             \t|\n",
    "| prod     \t| Product of values                          \t|\n",
    "| std      \t| Bessel-corrected sample standard deviation \t|\n",
    "| var      \t| Unbiased variance                          \t|\n",
    "| sem      \t| Standard error of the mean                 \t|\n",
    "| skew     \t| Sample skewness (3rd moment)               \t|\n",
    "| kurt     \t| Sample kurtosis (4th moment)               \t|\n",
    "| unique    | List the unique elements \n",
    "| quantile \t| Sample quantile (value at %)               \t|\n",
    "| cumsum   \t| Cumulative sum                             \t|\n",
    "| cumprod  \t| Cumulative product                         \t|\n",
    "| cummax   \t| Cumulative maximum                         \t|\n",
    "| cummin   \t| Cumulative minimum                         \t|"
   ]
  },
  {
   "cell_type": "code",
   "execution_count": null,
   "metadata": {
    "ExecuteTime": {
     "end_time": "2017-09-18T11:16:41.586197",
     "start_time": "2017-09-18T11:16:41.575074Z"
    },
    "colab": {
     "base_uri": "https://localhost:8080/",
     "height": 306
    },
    "colab_type": "code",
    "executionInfo": {
     "elapsed": 782,
     "status": "ok",
     "timestamp": 1587740395389,
     "user": {
      "displayName": "Emma Briars",
      "photoUrl": "https://lh3.googleusercontent.com/a-/AOh14Gj14uLObWQe3mbLX6o5aXvFBch63XWb_GUOD_jG=s64",
      "userId": "10583257419353631243"
     },
     "user_tz": 240
    },
    "id": "xeNZ3aTupO9T",
    "outputId": "3cc17fcc-258b-4236-c205-9dbeee7ef80c",
    "run_control": {
     "frozen": false,
     "read_only": false
    }
   },
   "outputs": [],
   "source": [
    "infile = '../data/ecoli.txt'\n",
    "df = pd.read_csv(infile, sep='\\t')\n",
    "df.head()"
   ]
  },
  {
   "cell_type": "code",
   "execution_count": null,
   "metadata": {
    "ExecuteTime": {
     "end_time": "2017-09-18T09:18:59.704543",
     "start_time": "2017-09-18T09:18:59.680988Z"
    },
    "colab": {
     "base_uri": "https://localhost:8080/",
     "height": 102
    },
    "colab_type": "code",
    "executionInfo": {
     "elapsed": 398,
     "status": "ok",
     "timestamp": 1587740403701,
     "user": {
      "displayName": "Emma Briars",
      "photoUrl": "https://lh3.googleusercontent.com/a-/AOh14Gj14uLObWQe3mbLX6o5aXvFBch63XWb_GUOD_jG=s64",
      "userId": "10583257419353631243"
     },
     "user_tz": 240
    },
    "id": "w9CMyu2zpO9U",
    "outputId": "562b33eb-26bb-4353-83b6-59a7c35f6f6f",
    "run_control": {
     "frozen": false,
     "read_only": false
    }
   },
   "outputs": [],
   "source": [
    "df.mean()"
   ]
  },
  {
   "cell_type": "code",
   "execution_count": null,
   "metadata": {
    "ExecuteTime": {
     "end_time": "2017-09-18T09:19:05.274407",
     "start_time": "2017-09-18T09:19:05.265925Z"
    },
    "colab": {
     "base_uri": "https://localhost:8080/",
     "height": 238
    },
    "colab_type": "code",
    "executionInfo": {
     "elapsed": 373,
     "status": "ok",
     "timestamp": 1587740431399,
     "user": {
      "displayName": "Emma Briars",
      "photoUrl": "https://lh3.googleusercontent.com/a-/AOh14Gj14uLObWQe3mbLX6o5aXvFBch63XWb_GUOD_jG=s64",
      "userId": "10583257419353631243"
     },
     "user_tz": 240
    },
    "id": "28mV-CxhpO9W",
    "outputId": "8b732b72-b464-45f1-cb8b-c179c9cb14b0",
    "run_control": {
     "frozen": false,
     "read_only": false
    }
   },
   "outputs": [],
   "source": [
    "df.count()"
   ]
  },
  {
   "cell_type": "markdown",
   "metadata": {
    "colab_type": "text",
    "id": "fGI6OXA_pO9Y"
   },
   "source": [
    "**Remember: Use the *describe()* method to generate a simple table report of the DataFrame**"
   ]
  },
  {
   "cell_type": "code",
   "execution_count": null,
   "metadata": {
    "ExecuteTime": {
     "end_time": "2017-09-18T09:19:24.546362",
     "start_time": "2017-09-18T09:19:24.500793Z"
    },
    "colab": {
     "base_uri": "https://localhost:8080/",
     "height": 441
    },
    "colab_type": "code",
    "executionInfo": {
     "elapsed": 361,
     "status": "ok",
     "timestamp": 1587740448649,
     "user": {
      "displayName": "Emma Briars",
      "photoUrl": "https://lh3.googleusercontent.com/a-/AOh14Gj14uLObWQe3mbLX6o5aXvFBch63XWb_GUOD_jG=s64",
      "userId": "10583257419353631243"
     },
     "user_tz": 240
    },
    "id": "XcYcqdoQpO9Y",
    "outputId": "7715e72c-99f9-4fc1-b3f9-7bdf35bacd06",
    "run_control": {
     "frozen": false,
     "read_only": false
    }
   },
   "outputs": [],
   "source": [
    "# Default: Pandas will determine which columns are numeric and only describe those\n",
    "df.describe()\n",
    "\n",
    "# Compare to when include=\"all\"\n",
    "df.describe(include=\"all\")"
   ]
  },
  {
   "cell_type": "markdown",
   "metadata": {
    "colab_type": "text",
    "id": "g1i0H2nHpO9x"
   },
   "source": [
    "### Accessing elements in a DataFrame (Indexing and Selection)"
   ]
  },
  {
   "cell_type": "markdown",
   "metadata": {
    "colab_type": "text",
    "id": "c_2sE8TzpO9y"
   },
   "source": [
    "| Operation                      \t| Syntax        \t    | Result    \t|\n",
    "|--------------------------------\t|---------------\t    |-----------\t|\n",
    "| Select column                  \t| df[col] **or** df.col | Series    \t|\n",
    "| Select row by label            \t| df.loc[label] \t    | Series    \t|\n",
    "| Select row by integer location \t| df.iloc[loc]  \t    | Series    \t|\n",
    "| Slice rows                     \t| df[5:10]      \t    | DataFrame \t|"
   ]
  },
  {
   "cell_type": "code",
   "execution_count": null,
   "metadata": {
    "colab": {
     "base_uri": "https://localhost:8080/",
     "height": 235
    },
    "colab_type": "code",
    "executionInfo": {
     "elapsed": 527,
     "status": "ok",
     "timestamp": 1587740565764,
     "user": {
      "displayName": "Emma Briars",
      "photoUrl": "https://lh3.googleusercontent.com/a-/AOh14Gj14uLObWQe3mbLX6o5aXvFBch63XWb_GUOD_jG=s64",
      "userId": "10583257419353631243"
     },
     "user_tz": 240
    },
    "id": "yRKjsISrwHpP",
    "outputId": "293d01ad-46ec-412b-8817-84370cefac43"
   },
   "outputs": [],
   "source": [
    "# Re-Load the DataFrame\n",
    "df = pd.read_csv(infile, sep='\\t')\n",
    "df.rename(columns={\"Locus tag\":\"Locus Tag\", \"Protein product\":\"Protein Product\"}, inplace=True)\n",
    "df = df.drop(labels=[\"Replicon Name\", \"COG(s)\", \"Protein name\"], axis=1) # Axis 1 = Columns\n",
    "\n",
    "df\n",
    "\n",
    "# Change the index to be Locus\n",
    "df.index = df[\"Locus\"]\n",
    "df.head()"
   ]
  },
  {
   "cell_type": "markdown",
   "metadata": {
    "colab_type": "text",
    "id": "i_ew103lpO94"
   },
   "source": [
    "**Column Slicing**"
   ]
  },
  {
   "cell_type": "code",
   "execution_count": null,
   "metadata": {
    "colab": {
     "base_uri": "https://localhost:8080/",
     "height": 34
    },
    "colab_type": "code",
    "executionInfo": {
     "elapsed": 497,
     "status": "ok",
     "timestamp": 1587740709477,
     "user": {
      "displayName": "Emma Briars",
      "photoUrl": "https://lh3.googleusercontent.com/a-/AOh14Gj14uLObWQe3mbLX6o5aXvFBch63XWb_GUOD_jG=s64",
      "userId": "10583257419353631243"
     },
     "user_tz": 240
    },
    "id": "5YEWm4k_pO95",
    "outputId": "a32375e3-52a1-4d4d-9960-88ffd4f7b34b",
    "run_control": {
     "frozen": false,
     "read_only": false
    }
   },
   "outputs": [],
   "source": [
    "# Preferred Method\n",
    "df[\"Start\"]"
   ]
  },
  {
   "cell_type": "code",
   "execution_count": null,
   "metadata": {
    "colab": {
     "base_uri": "https://localhost:8080/",
     "height": 34
    },
    "colab_type": "code",
    "executionInfo": {
     "elapsed": 648,
     "status": "ok",
     "timestamp": 1587740696470,
     "user": {
      "displayName": "Emma Briars",
      "photoUrl": "https://lh3.googleusercontent.com/a-/AOh14Gj14uLObWQe3mbLX6o5aXvFBch63XWb_GUOD_jG=s64",
      "userId": "10583257419353631243"
     },
     "user_tz": 240
    },
    "id": "IxcmRj-fpO97",
    "outputId": "529ccf19-71b5-449a-f8c0-818631095935",
    "run_control": {
     "frozen": false,
     "read_only": false
    }
   },
   "outputs": [],
   "source": [
    "df.Start"
   ]
  },
  {
   "cell_type": "code",
   "execution_count": null,
   "metadata": {
    "colab": {
     "base_uri": "https://localhost:8080/",
     "height": 450
    },
    "colab_type": "code",
    "executionInfo": {
     "elapsed": 644,
     "status": "ok",
     "timestamp": 1587740645945,
     "user": {
      "displayName": "Emma Briars",
      "photoUrl": "https://lh3.googleusercontent.com/a-/AOh14Gj14uLObWQe3mbLX6o5aXvFBch63XWb_GUOD_jG=s64",
      "userId": "10583257419353631243"
     },
     "user_tz": 240
    },
    "id": "F-jl-pQKpO-H",
    "outputId": "4d86fc64-00fa-4cf5-e50c-09940a56f5da",
    "run_control": {
     "frozen": false,
     "read_only": false
    }
   },
   "outputs": [],
   "source": [
    "df[[\"Start\", \"Stop\"]]"
   ]
  },
  {
   "cell_type": "markdown",
   "metadata": {
    "colab_type": "text",
    "id": "iftmOYCupO-K"
   },
   "source": [
    "**Index slicing**\n",
    "\n",
    "\n",
    "*   `df.loc[]`: Slice by index label (or Boolean)\n",
    "*   `df.iloc[]`: Slice by integer (selection by position)\n",
    "\n"
   ]
  },
  {
   "cell_type": "code",
   "execution_count": null,
   "metadata": {
    "colab": {
     "base_uri": "https://localhost:8080/",
     "height": 187
    },
    "colab_type": "code",
    "executionInfo": {
     "elapsed": 436,
     "status": "ok",
     "timestamp": 1587740909535,
     "user": {
      "displayName": "Emma Briars",
      "photoUrl": "https://lh3.googleusercontent.com/a-/AOh14Gj14uLObWQe3mbLX6o5aXvFBch63XWb_GUOD_jG=s64",
      "userId": "10583257419353631243"
     },
     "user_tz": 240
    },
    "id": "DYf4UVtkpO-K",
    "outputId": "95c85848-0b38-4bd8-d8aa-1a5b7efc1244",
    "run_control": {
     "frozen": false,
     "read_only": false
    }
   },
   "outputs": [],
   "source": [
    "df.head()\n",
    "df.loc[\"rluA\"]"
   ]
  },
  {
   "cell_type": "code",
   "execution_count": null,
   "metadata": {
    "colab": {},
    "colab_type": "code",
    "id": "0N40FkvMpO-V",
    "run_control": {
     "frozen": false,
     "read_only": false
    }
   },
   "outputs": [],
   "source": [
    "df.loc[\"rpsJ\":\"rpsF\"]"
   ]
  },
  {
   "cell_type": "code",
   "execution_count": null,
   "metadata": {
    "colab": {
     "base_uri": "https://localhost:8080/",
     "height": 187
    },
    "colab_type": "code",
    "executionInfo": {
     "elapsed": 412,
     "status": "ok",
     "timestamp": 1587740880942,
     "user": {
      "displayName": "Emma Briars",
      "photoUrl": "https://lh3.googleusercontent.com/a-/AOh14Gj14uLObWQe3mbLX6o5aXvFBch63XWb_GUOD_jG=s64",
      "userId": "10583257419353631243"
     },
     "user_tz": 240
    },
    "id": "v9baYfaxpO-W",
    "outputId": "f450f80d-22be-412d-a293-906e5d012bf3",
    "run_control": {
     "frozen": false,
     "read_only": false
    }
   },
   "outputs": [],
   "source": [
    "df.iloc[1]"
   ]
  },
  {
   "cell_type": "code",
   "execution_count": null,
   "metadata": {
    "colab": {
     "base_uri": "https://localhost:8080/",
     "height": 142
    },
    "colab_type": "code",
    "executionInfo": {
     "elapsed": 600,
     "status": "ok",
     "timestamp": 1587740930297,
     "user": {
      "displayName": "Emma Briars",
      "photoUrl": "https://lh3.googleusercontent.com/a-/AOh14Gj14uLObWQe3mbLX6o5aXvFBch63XWb_GUOD_jG=s64",
      "userId": "10583257419353631243"
     },
     "user_tz": 240
    },
    "id": "09eK6CrdpO-i",
    "outputId": "20d6c363-b897-4ad1-de07-0c85b546b959",
    "run_control": {
     "frozen": false,
     "read_only": false
    }
   },
   "outputs": [],
   "source": [
    "df.iloc[10:12]"
   ]
  },
  {
   "cell_type": "markdown",
   "metadata": {
    "colab_type": "text",
    "id": "_mCVugzOpO-j"
   },
   "source": [
    "**Combine column and index slicing to select a specific item or a range of items**"
   ]
  },
  {
   "cell_type": "code",
   "execution_count": null,
   "metadata": {
    "colab": {
     "base_uri": "https://localhost:8080/",
     "height": 34
    },
    "colab_type": "code",
    "executionInfo": {
     "elapsed": 443,
     "status": "ok",
     "timestamp": 1587741084094,
     "user": {
      "displayName": "Emma Briars",
      "photoUrl": "https://lh3.googleusercontent.com/a-/AOh14Gj14uLObWQe3mbLX6o5aXvFBch63XWb_GUOD_jG=s64",
      "userId": "10583257419353631243"
     },
     "user_tz": 240
    },
    "id": "Ha7Dcdg4pO-k",
    "outputId": "161d02fe-5526-4553-d228-37fe537d149c",
    "run_control": {
     "frozen": false,
     "read_only": false
    }
   },
   "outputs": [],
   "source": [
    "## Multiple ways to do the same thing\n",
    "df.loc[\"rluB\", \"Protein Product\"]"
   ]
  },
  {
   "cell_type": "code",
   "execution_count": null,
   "metadata": {
    "colab": {
     "base_uri": "https://localhost:8080/",
     "height": 34
    },
    "colab_type": "code",
    "executionInfo": {
     "elapsed": 469,
     "status": "ok",
     "timestamp": 1587741012103,
     "user": {
      "displayName": "Emma Briars",
      "photoUrl": "https://lh3.googleusercontent.com/a-/AOh14Gj14uLObWQe3mbLX6o5aXvFBch63XWb_GUOD_jG=s64",
      "userId": "10583257419353631243"
     },
     "user_tz": 240
    },
    "id": "eAUBdPoDpO-m",
    "outputId": "0572a8a7-00f4-40d8-881d-23c46ec50c18",
    "run_control": {
     "frozen": false,
     "read_only": false
    },
    "scrolled": true
   },
   "outputs": [],
   "source": [
    "df.loc[\"rluB\"][\"Protein Product\"]"
   ]
  },
  {
   "cell_type": "code",
   "execution_count": null,
   "metadata": {
    "colab": {
     "base_uri": "https://localhost:8080/",
     "height": 34
    },
    "colab_type": "code",
    "executionInfo": {
     "elapsed": 447,
     "status": "ok",
     "timestamp": 1587741033309,
     "user": {
      "displayName": "Emma Briars",
      "photoUrl": "https://lh3.googleusercontent.com/a-/AOh14Gj14uLObWQe3mbLX6o5aXvFBch63XWb_GUOD_jG=s64",
      "userId": "10583257419353631243"
     },
     "user_tz": 240
    },
    "id": "FuhtrMkwpO-n",
    "outputId": "452a4b37-a77f-4107-9f12-fe0105ce399c",
    "run_control": {
     "frozen": false,
     "read_only": false
    }
   },
   "outputs": [],
   "source": [
    "df.iloc[10,7]"
   ]
  },
  {
   "cell_type": "code",
   "execution_count": null,
   "metadata": {
    "colab": {
     "base_uri": "https://localhost:8080/",
     "height": 34
    },
    "colab_type": "code",
    "executionInfo": {
     "elapsed": 417,
     "status": "ok",
     "timestamp": 1587741036057,
     "user": {
      "displayName": "Emma Briars",
      "photoUrl": "https://lh3.googleusercontent.com/a-/AOh14Gj14uLObWQe3mbLX6o5aXvFBch63XWb_GUOD_jG=s64",
      "userId": "10583257419353631243"
     },
     "user_tz": 240
    },
    "id": "a2JEAxY1pO-p",
    "outputId": "2ed5ef43-aef0-4885-940e-738c36cc8cde",
    "run_control": {
     "frozen": false,
     "read_only": false
    }
   },
   "outputs": [],
   "source": [
    "df.iloc[10][7]"
   ]
  },
  {
   "cell_type": "markdown",
   "metadata": {
    "colab_type": "text",
    "id": "b36dVw7bpO-r"
   },
   "source": [
    "### Select specific elements based on their values = Boolean Indexing"
   ]
  },
  {
   "cell_type": "markdown",
   "metadata": {
    "colab_type": "text",
    "id": "1PWqk54dpO-r"
   },
   "source": [
    "**With a single condition**"
   ]
  },
  {
   "cell_type": "code",
   "execution_count": null,
   "metadata": {
    "colab": {
     "base_uri": "https://localhost:8080/",
     "height": 450
    },
    "colab_type": "code",
    "executionInfo": {
     "elapsed": 456,
     "status": "ok",
     "timestamp": 1587741133145,
     "user": {
      "displayName": "Emma Briars",
      "photoUrl": "https://lh3.googleusercontent.com/a-/AOh14Gj14uLObWQe3mbLX6o5aXvFBch63XWb_GUOD_jG=s64",
      "userId": "10583257419353631243"
     },
     "user_tz": 240
    },
    "id": "ASWOYY1MpO-r",
    "outputId": "92bc883a-03ea-495e-f8a2-f390a64dc022",
    "run_control": {
     "frozen": false,
     "read_only": false
    }
   },
   "outputs": [],
   "source": [
    "df[df[\"Strand\"] == \"-\"]"
   ]
  },
  {
   "cell_type": "code",
   "execution_count": null,
   "metadata": {
    "colab": {
     "base_uri": "https://localhost:8080/",
     "height": 450
    },
    "colab_type": "code",
    "executionInfo": {
     "elapsed": 425,
     "status": "ok",
     "timestamp": 1587741153795,
     "user": {
      "displayName": "Emma Briars",
      "photoUrl": "https://lh3.googleusercontent.com/a-/AOh14Gj14uLObWQe3mbLX6o5aXvFBch63XWb_GUOD_jG=s64",
      "userId": "10583257419353631243"
     },
     "user_tz": 240
    },
    "id": "8kdeFPDgpO-4",
    "outputId": "99d05798-d6a5-46ea-aca6-109a17bef3d3",
    "run_control": {
     "frozen": false,
     "read_only": false
    }
   },
   "outputs": [],
   "source": [
    "df.query(\"Strand == '-'\")"
   ]
  },
  {
   "cell_type": "code",
   "execution_count": null,
   "metadata": {
    "colab": {
     "base_uri": "https://localhost:8080/",
     "height": 111
    },
    "colab_type": "code",
    "executionInfo": {
     "elapsed": 537,
     "status": "ok",
     "timestamp": 1587741179720,
     "user": {
      "displayName": "Emma Briars",
      "photoUrl": "https://lh3.googleusercontent.com/a-/AOh14Gj14uLObWQe3mbLX6o5aXvFBch63XWb_GUOD_jG=s64",
      "userId": "10583257419353631243"
     },
     "user_tz": 240
    },
    "id": "k-9OghjopO-s",
    "outputId": "aae3f19c-809d-4be7-83b2-ba7fadc06a9e",
    "run_control": {
     "frozen": false,
     "read_only": false
    }
   },
   "outputs": [],
   "source": [
    "df[df[\"Length\"].isin([200, 201, 202])]"
   ]
  },
  {
   "cell_type": "code",
   "execution_count": null,
   "metadata": {
    "colab": {
     "base_uri": "https://localhost:8080/",
     "height": 450
    },
    "colab_type": "code",
    "executionInfo": {
     "elapsed": 464,
     "status": "ok",
     "timestamp": 1587741217081,
     "user": {
      "displayName": "Emma Briars",
      "photoUrl": "https://lh3.googleusercontent.com/a-/AOh14Gj14uLObWQe3mbLX6o5aXvFBch63XWb_GUOD_jG=s64",
      "userId": "10583257419353631243"
     },
     "user_tz": 240
    },
    "id": "-KrVxuhBpO_E",
    "outputId": "b337bdc9-9339-47ed-f867-aa9af406605c",
    "run_control": {
     "frozen": false,
     "read_only": false
    }
   },
   "outputs": [],
   "source": [
    "df[df[\"Locus\"].str.startswith('rlu')]"
   ]
  },
  {
   "cell_type": "markdown",
   "metadata": {
    "colab_type": "text",
    "id": "qS7rpDPlpO_G"
   },
   "source": [
    "**With multiple conditions**"
   ]
  },
  {
   "cell_type": "code",
   "execution_count": null,
   "metadata": {
    "colab": {
     "base_uri": "https://localhost:8080/",
     "height": 266
    },
    "colab_type": "code",
    "executionInfo": {
     "elapsed": 497,
     "status": "ok",
     "timestamp": 1587741277089,
     "user": {
      "displayName": "Emma Briars",
      "photoUrl": "https://lh3.googleusercontent.com/a-/AOh14Gj14uLObWQe3mbLX6o5aXvFBch63XWb_GUOD_jG=s64",
      "userId": "10583257419353631243"
     },
     "user_tz": 240
    },
    "id": "tWCj3zNdpO_H",
    "outputId": "02c347fc-5a92-4bfd-f348-b84fc04746ee",
    "run_control": {
     "frozen": false,
     "read_only": false
    }
   },
   "outputs": [],
   "source": [
    "df[(df[\"Strand\"] == '+') & (df[\"Length\"] > 350)]"
   ]
  },
  {
   "cell_type": "code",
   "execution_count": null,
   "metadata": {
    "colab": {
     "base_uri": "https://localhost:8080/",
     "height": 266
    },
    "colab_type": "code",
    "executionInfo": {
     "elapsed": 497,
     "status": "ok",
     "timestamp": 1587741277089,
     "user": {
      "displayName": "Emma Briars",
      "photoUrl": "https://lh3.googleusercontent.com/a-/AOh14Gj14uLObWQe3mbLX6o5aXvFBch63XWb_GUOD_jG=s64",
      "userId": "10583257419353631243"
     },
     "user_tz": 240
    },
    "id": "tWCj3zNdpO_H",
    "outputId": "02c347fc-5a92-4bfd-f348-b84fc04746ee",
    "run_control": {
     "frozen": false,
     "read_only": false
    }
   },
   "outputs": [],
   "source": [
    "df[(df[\"Strand\"] == '+') | (df[\"Length\"] > 350)]"
   ]
  },
  {
   "cell_type": "code",
   "execution_count": null,
   "metadata": {
    "colab": {
     "base_uri": "https://localhost:8080/",
     "height": 266
    },
    "colab_type": "code",
    "executionInfo": {
     "elapsed": 537,
     "status": "ok",
     "timestamp": 1587741572505,
     "user": {
      "displayName": "Emma Briars",
      "photoUrl": "https://lh3.googleusercontent.com/a-/AOh14Gj14uLObWQe3mbLX6o5aXvFBch63XWb_GUOD_jG=s64",
      "userId": "10583257419353631243"
     },
     "user_tz": 240
    },
    "id": "NF5PmzAapO_J",
    "outputId": "e261e25c-4b7f-49d8-92dd-347ab61850f3",
    "run_control": {
     "frozen": false,
     "read_only": false
    }
   },
   "outputs": [],
   "source": [
    "df.query(\"Strand == '+' and Length > 350\")"
   ]
  },
  {
   "cell_type": "markdown",
   "metadata": {},
   "source": [
    "The `apply` method\n",
    "----\n",
    "\n",
    "Use custom functions on a `groupby` result"
   ]
  },
  {
   "cell_type": "code",
   "execution_count": null,
   "metadata": {},
   "outputs": [],
   "source": [
    "df = pd.read_csv(infile, sep='\\t')"
   ]
  },
  {
   "cell_type": "code",
   "execution_count": null,
   "metadata": {},
   "outputs": [],
   "source": [
    "def count_operons(values):\n",
    "    operons = set()\n",
    "    for gene_name in values:\n",
    "        operon = gene_name[:-1]\n",
    "        operons.add(operon)\n",
    "    return len(operons)"
   ]
  },
  {
   "cell_type": "code",
   "execution_count": null,
   "metadata": {},
   "outputs": [],
   "source": [
    "count_operons(df['Locus'])"
   ]
  },
  {
   "cell_type": "code",
   "execution_count": null,
   "metadata": {},
   "outputs": [],
   "source": [
    "df.groupby('Strand')['Locus'].apply(count_operons)"
   ]
  },
  {
   "cell_type": "code",
   "execution_count": null,
   "metadata": {},
   "outputs": [],
   "source": [
    "def find_operons(values):\n",
    "    operons = set()\n",
    "    for gene_name in values:\n",
    "        operon = gene_name[:3]\n",
    "        operons.add(operon)\n",
    "    return operons"
   ]
  },
  {
   "cell_type": "code",
   "execution_count": null,
   "metadata": {},
   "outputs": [],
   "source": [
    "find_operons(df['Locus'])"
   ]
  },
  {
   "cell_type": "code",
   "execution_count": null,
   "metadata": {},
   "outputs": [],
   "source": [
    "df.groupby('Strand')['Locus'].apply(find_operons)"
   ]
  },
  {
   "cell_type": "markdown",
   "metadata": {},
   "source": [
    "---\n"
   ]
  },
  {
   "cell_type": "markdown",
   "metadata": {},
   "source": [
    "Exercises\n",
    "---------"
   ]
  },
  {
   "cell_type": "markdown",
   "metadata": {},
   "source": [
    "Using the data from this URL: https://evocellnet.github.io/ecoref/data/conditions.tsv answer the following questions\n",
    "\n",
    "* how many unique strains are there? What about conditions?\n",
    "* is each strain present in all conditions and vice-versa?\n",
    "* how many growth defect phenotypes are present in each condition?\n",
    "    * what is the proportion?\n",
    "* how many growth defect phenotypes each strain has?\n",
    "    * what is the proportion?\n",
    "* can you filter the table to keep only those conditions with no phenotype?\n",
    "* can you filter the table to keep only those entries with corrected-p-value < 0.01?\n",
    "* can you reshape the table to have strains as rows, conditions as columns, and s-scores as values?"
   ]
  },
  {
   "cell_type": "code",
   "execution_count": null,
   "metadata": {},
   "outputs": [],
   "source": []
  }
 ],
 "metadata": {
  "celltoolbar": "Initialisation Cell",
  "colab": {
   "collapsed_sections": [
    "_XD_wsn6xlTl",
    "ZWCuCc4vROju",
    "CI-UTzd2R1Tj",
    "ojGccYivUpfh",
    "KkpCA2MgoDv3",
    "M4GXygU-oRG0",
    "otmrx772ozbH",
    "iMfD4TqHOEAC",
    "V_HsX1AtQJAO",
    "gCH26vTjpO1V",
    "MBG0FKUyRd6r",
    "KvjjgiS1pO5_",
    "JVyHwGd8pO6z",
    "IisTEdf_pO60",
    "IVaiW1AjpO7v",
    "OFR5piF5pO8s",
    "yh1-OLBwpO9T",
    "g1i0H2nHpO9x",
    "b36dVw7bpO-r",
    "pTBV83wxpO_K"
   ],
   "name": "2_python_intro-to-pandas.ipynb",
   "provenance": []
  },
  "kernelspec": {
   "display_name": "Python 3",
   "language": "python",
   "name": "python3"
  },
  "language_info": {
   "codemirror_mode": {
    "name": "ipython",
    "version": 3
   },
   "file_extension": ".py",
   "mimetype": "text/x-python",
   "name": "python",
   "nbconvert_exporter": "python",
   "pygments_lexer": "ipython3",
   "version": "3.8.10"
  }
 },
 "nbformat": 4,
 "nbformat_minor": 4
}
